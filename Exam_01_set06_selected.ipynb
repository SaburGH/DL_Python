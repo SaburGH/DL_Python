{
 "cells": [
  {
   "cell_type": "markdown",
   "id": "acc8e45a-da87-4bad-ae18-c1dc1865642c",
   "metadata": {},
   "source": [
    "# Bytes of Intelligence: Set - 06 -selected"
   ]
  },
  {
   "cell_type": "markdown",
   "id": "b9647dc4-629a-4939-a6ee-07183010318e",
   "metadata": {},
   "source": [
    "### Department of AI Engineering"
   ]
  },
  {
   "cell_type": "markdown",
   "id": "10eeec33-0026-4b9f-9327-ff23081f9ba2",
   "metadata": {},
   "source": [
    "### Semester Examination\n",
    "### Course Title: Deep Learning Techniques in Python for Vision and Language\n",
    "### Course Code: DL-101\n",
    "### Duration: 3 Hours\n",
    "### Total Marks: 100"
   ]
  },
  {
   "cell_type": "raw",
   "id": "38febdd3-8ca0-47dc-b9f5-91684afa4070",
   "metadata": {},
   "source": [
    "Instructions:\n",
    "Attempt all questions.\n",
    "Read each question carefully before answering.\n",
    "All code should be properly commented and indented.\n",
    "Use appropriate data structures and algorithms where necessary.\n",
    "Marks are indicated next to each question.\n",
    "Assume any necessary imports (e.g., import numpy as np, import pandas as pd).\n",
    "Write your code in Python programming language."
   ]
  },
  {
   "cell_type": "raw",
   "id": "3426b15a-b592-4070-a63e-197e5ce79b03",
   "metadata": {},
   "source": [
    "Question 1: Python Fundamentals and Control Structures (15 Marks)\n",
    "\n",
    "(a) Basic Data Types and Operations (5 Marks)\n",
    "Write a Python program that:\n",
    "Prompts the user to input a string containing a mathematical expression (e.g., \"3 + 4 * 2\").\n",
    "\n",
    "Evaluates the expression and prints the result.\n",
    "\n",
    "Handles any exceptions (e.g., SyntaxError, ZeroDivisionError) and prints an appropriate errormessage.\n",
    "\n",
    "Example:\n",
    "Enter a mathematical expression: 3 + 4 * 2\n",
    "Result: 11"
   ]
  },
  {
   "cell_type": "code",
   "execution_count": 3,
   "id": "ae46c209-d0e7-4beb-9eda-ecca5af9b237",
   "metadata": {},
   "outputs": [],
   "source": [
    "# Basic Idea\n",
    "# user_input=input(\"Enter an expression (like: 3 + 4 * 2) : \")\n",
    "\n",
    "# res=eval(user_input)\n",
    "\n",
    "# print(\"result=\",res)"
   ]
  },
  {
   "cell_type": "code",
   "execution_count": 5,
   "id": "88599133-6dbc-499e-8881-c2da57a1dbc4",
   "metadata": {},
   "outputs": [],
   "source": [
    "def evaluate_expression(expression):\n",
    "    try:\n",
    "        result = eval(expression)\n",
    "        print(f\"Result is : {result}\")\n",
    "    except ZeroDivisionError:\n",
    "        print(\"Error: Division by zero is not allowed.\")\n",
    "    except SyntaxError:\n",
    "        print(\"Error: Invalid syntax. Please enter a valid mathematical expression.\")\n",
    "    except Exception as e:\n",
    "        print(f\"Error: {e}\")"
   ]
  },
  {
   "cell_type": "code",
   "execution_count": 7,
   "id": "a5c2e354-677f-4686-a652-41f615e197fc",
   "metadata": {},
   "outputs": [
    {
     "name": "stdin",
     "output_type": "stream",
     "text": [
      "Enter a mathematical expression:  2+7*7\n"
     ]
    },
    {
     "name": "stdout",
     "output_type": "stream",
     "text": [
      "Result is : 51\n"
     ]
    }
   ],
   "source": [
    "def main():\n",
    "    user_input = input(\"Enter a mathematical expression: \")\n",
    "    evaluate_expression(user_input)\n",
    "if __name__ == \"__main__\":\n",
    "    main()"
   ]
  },
  {
   "cell_type": "markdown",
   "id": "f957833b-5e01-43c3-99e6-f226b6eac6ac",
   "metadata": {},
   "source": [
    "# Done "
   ]
  },
  {
   "cell_type": "raw",
   "id": "702bd5ff-67c2-4fbc-b08d-091181de66c4",
   "metadata": {},
   "source": [
    "(b) Control Flow and Functions (10 Marks)\n",
    "Define a function fibonacci_sequence(n) that generates a list containing the Fibonacci sequence upto the nth term.\n",
    "The function should return the list of Fibonacci numbers.\n",
    "Include error handling to ensure that n is a positive integer.\n",
    "Demonstrate the function with n = 10."
   ]
  },
  {
   "cell_type": "code",
   "execution_count": null,
   "id": "7f5d737c-799a-4519-bed3-f4e52871510a",
   "metadata": {},
   "outputs": [],
   "source": []
  },
  {
   "cell_type": "code",
   "execution_count": 10,
   "id": "768c727a-cb0b-4efe-b65b-d7922393be70",
   "metadata": {},
   "outputs": [],
   "source": [
    "# # Basic idea\n",
    "# fib_seq = []\n",
    "    \n",
    "# # Generate Fibonacci sequence\n",
    "# a, b = 0, 1\n",
    "# n=10\n",
    "# for _ in range(n):\n",
    "#     fib_seq.append(a)\n",
    "#     a, b = b, a + b\n",
    "# print(\"result= \", fib_seq)"
   ]
  },
  {
   "cell_type": "code",
   "execution_count": 12,
   "id": "1a381a2c-f464-4932-812a-3d9d5e8e64a8",
   "metadata": {},
   "outputs": [
    {
     "name": "stdout",
     "output_type": "stream",
     "text": [
      "Fibonacci seq up to the 10th term: [0, 1, 1, 2, 3, 5, 8, 13, 21, 34]\n"
     ]
    }
   ],
   "source": [
    "def fibo_seq(n):\n",
    "    if not isinstance(n, int):\n",
    "        raise ValueError(\"Input must be an integer.\")\n",
    "    if n <= 0:\n",
    "        raise ValueError(\"Input must be a positive integer.\")\n",
    "    fib_seq = []\n",
    "    \n",
    "    a, b = 0, 1\n",
    "    for _ in range(n):\n",
    "        fib_seq.append(a)\n",
    "        a, b = b, a + b\n",
    "    \n",
    "    return fib_seq\n",
    "\n",
    "# Demonstrating the function with n = 10\n",
    "try:\n",
    "    n = 10\n",
    "    result = fibo_seq(n)\n",
    "    print(f\"Fibonacci seq up to the {n}th term: {result}\")\n",
    "except ValueError as e:\n",
    "    print(f\"Error: {e}\")\n"
   ]
  },
  {
   "cell_type": "markdown",
   "id": "04931e9e-6f6c-4d29-8454-8b6421107c99",
   "metadata": {},
   "source": [
    "# Done"
   ]
  },
  {
   "cell_type": "raw",
   "id": "4130cd20-24d0-401b-b761-42db9f07c2dc",
   "metadata": {},
   "source": [
    "Question 2: Data Structures in Python (20 Marks)\n",
    "\n",
    "(a) List and Dictionary Manipulations (10 Marks)\n",
    "Given the following list of dictionaries representing students and their test scores:\n",
    "\n",
    "students = [ {\"name\": \"Alice\", \"score\": 88}, \n",
    "            {\"name\": \"Bob\", \"score\": 75}, \n",
    "            {\"name\": \"Charlie\", \"score\": 92}, \n",
    "            {\"name\": \"Diana\", \"score\": 85}, \n",
    "            {\"name\": \"Evan\", \"score\": 79}\n",
    "            ]\n",
    "\n",
    "Perform the following tasks:\n",
    "Sort the list of students by their scores in ascending order. (5 Marks)\n",
    "Create a dictionary where each key is a student's name and the value is their score. (5 Marks)"
   ]
  },
  {
   "cell_type": "code",
   "execution_count": 15,
   "id": "97970cf6-8493-4523-9e0d-ba0acd718d3c",
   "metadata": {},
   "outputs": [],
   "source": [
    "import numpy as np\n",
    "import pandas as pd"
   ]
  },
  {
   "cell_type": "code",
   "execution_count": 17,
   "id": "8d5c0cbf-a1e1-40f2-9ecd-295b55769622",
   "metadata": {},
   "outputs": [
    {
     "data": {
      "text/plain": [
       "[{'name': 'Alice', 'score': 88},\n",
       " {'name': 'Bob', 'score': 75},\n",
       " {'name': 'Charlie', 'score': 92},\n",
       " {'name': 'Diana', 'score': 85},\n",
       " {'name': 'Evan', 'score': 79}]"
      ]
     },
     "execution_count": 17,
     "metadata": {},
     "output_type": "execute_result"
    }
   ],
   "source": [
    "students = [\n",
    "    {\"name\": \"Alice\", \"score\": 88}, \n",
    "    {\"name\": \"Bob\", \"score\": 75}, \n",
    "    {\"name\": \"Charlie\", \"score\": 92}, \n",
    "    {\"name\": \"Diana\", \"score\": 85}, \n",
    "    {\"name\": \"Evan\", \"score\": 79}\n",
    "]\n",
    "students"
   ]
  },
  {
   "cell_type": "code",
   "execution_count": 19,
   "id": "4d7a4361-0291-4836-acef-11df92eacb4b",
   "metadata": {},
   "outputs": [
    {
     "data": {
      "text/html": [
       "<div>\n",
       "<style scoped>\n",
       "    .dataframe tbody tr th:only-of-type {\n",
       "        vertical-align: middle;\n",
       "    }\n",
       "\n",
       "    .dataframe tbody tr th {\n",
       "        vertical-align: top;\n",
       "    }\n",
       "\n",
       "    .dataframe thead th {\n",
       "        text-align: right;\n",
       "    }\n",
       "</style>\n",
       "<table border=\"1\" class=\"dataframe\">\n",
       "  <thead>\n",
       "    <tr style=\"text-align: right;\">\n",
       "      <th></th>\n",
       "      <th>name</th>\n",
       "      <th>score</th>\n",
       "    </tr>\n",
       "  </thead>\n",
       "  <tbody>\n",
       "    <tr>\n",
       "      <th>0</th>\n",
       "      <td>Alice</td>\n",
       "      <td>88</td>\n",
       "    </tr>\n",
       "    <tr>\n",
       "      <th>1</th>\n",
       "      <td>Bob</td>\n",
       "      <td>75</td>\n",
       "    </tr>\n",
       "    <tr>\n",
       "      <th>2</th>\n",
       "      <td>Charlie</td>\n",
       "      <td>92</td>\n",
       "    </tr>\n",
       "    <tr>\n",
       "      <th>3</th>\n",
       "      <td>Diana</td>\n",
       "      <td>85</td>\n",
       "    </tr>\n",
       "    <tr>\n",
       "      <th>4</th>\n",
       "      <td>Evan</td>\n",
       "      <td>79</td>\n",
       "    </tr>\n",
       "  </tbody>\n",
       "</table>\n",
       "</div>"
      ],
      "text/plain": [
       "      name  score\n",
       "0    Alice     88\n",
       "1      Bob     75\n",
       "2  Charlie     92\n",
       "3    Diana     85\n",
       "4     Evan     79"
      ]
     },
     "execution_count": 19,
     "metadata": {},
     "output_type": "execute_result"
    }
   ],
   "source": [
    "df=pd.DataFrame(data=students)\n",
    "df"
   ]
  },
  {
   "cell_type": "code",
   "execution_count": 21,
   "id": "af001be8-63d8-4a82-a64e-a2acb43202a9",
   "metadata": {},
   "outputs": [
    {
     "data": {
      "text/plain": [
       "[{'name': 'Bob', 'score': 75},\n",
       " {'name': 'Evan', 'score': 79},\n",
       " {'name': 'Diana', 'score': 85},\n",
       " {'name': 'Alice', 'score': 88},\n",
       " {'name': 'Charlie', 'score': 92}]"
      ]
     },
     "execution_count": 21,
     "metadata": {},
     "output_type": "execute_result"
    }
   ],
   "source": [
    "sorted_students = sorted(students, key=lambda student: student[\"score\"])\n",
    "sorted_students"
   ]
  },
  {
   "cell_type": "code",
   "execution_count": 23,
   "id": "987402c4-47cc-42f0-9efe-36768b577639",
   "metadata": {},
   "outputs": [
    {
     "data": {
      "text/plain": [
       "[{'name': 'Alice', 'score': 88},\n",
       " {'name': 'Bob', 'score': 75},\n",
       " {'name': 'Charlie', 'score': 92},\n",
       " {'name': 'Diana', 'score': 85},\n",
       " {'name': 'Evan', 'score': 79}]"
      ]
     },
     "execution_count": 23,
     "metadata": {},
     "output_type": "execute_result"
    }
   ],
   "source": [
    "students"
   ]
  },
  {
   "cell_type": "code",
   "execution_count": 25,
   "id": "ab1875c0-99bb-4bb9-b69d-a0f213f8d025",
   "metadata": {},
   "outputs": [
    {
     "name": "stdout",
     "output_type": "stream",
     "text": [
      "Sorted students by score (ascending):\n",
      "Bob: 75\n",
      "Evan: 79\n",
      "Diana: 85\n",
      "Alice: 88\n",
      "Charlie: 92\n"
     ]
    }
   ],
   "source": [
    "print(\"Sorted students by score (ascending):\")\n",
    "for student in sorted_students:\n",
    "    print(f\"{student['name']}: {student['score']}\")"
   ]
  },
  {
   "cell_type": "code",
   "execution_count": 27,
   "id": "2f7eafb3-12fc-4a13-83d7-7b6515347bf2",
   "metadata": {},
   "outputs": [
    {
     "data": {
      "text/plain": [
       "{'name': 'Charlie', 'score': 92}"
      ]
     },
     "execution_count": 27,
     "metadata": {},
     "output_type": "execute_result"
    }
   ],
   "source": [
    " student"
   ]
  },
  {
   "cell_type": "code",
   "execution_count": 29,
   "id": "43eca108-7702-4d09-b80c-31af51a506e4",
   "metadata": {},
   "outputs": [
    {
     "data": {
      "text/plain": [
       "{'Alice': 88, 'Bob': 75, 'Charlie': 92, 'Diana': 85, 'Evan': 79}"
      ]
     },
     "execution_count": 29,
     "metadata": {},
     "output_type": "execute_result"
    }
   ],
   "source": [
    "# Creating a dictionary with student names as keys and their scores as values\n",
    "student_scores_dict = {student[\"name\"]: student[\"score\"] for student in students}\n",
    "student_scores_dict"
   ]
  },
  {
   "cell_type": "code",
   "execution_count": 31,
   "id": "388e9b16-7503-41e0-82cb-9eef1bfd87c4",
   "metadata": {},
   "outputs": [
    {
     "data": {
      "text/plain": [
       "{'name': 'Charlie', 'score': 92}"
      ]
     },
     "execution_count": 31,
     "metadata": {},
     "output_type": "execute_result"
    }
   ],
   "source": [
    "student"
   ]
  },
  {
   "cell_type": "code",
   "execution_count": 33,
   "id": "4a9029d9-49bb-46c7-8b9e-0e5660d5e46b",
   "metadata": {},
   "outputs": [
    {
     "name": "stdout",
     "output_type": "stream",
     "text": [
      "Student names and their scores:\n",
      "{'Alice': 88, 'Bob': 75, 'Charlie': 92, 'Diana': 85, 'Evan': 79}\n"
     ]
    }
   ],
   "source": [
    "# Display the dictionary\n",
    "print(\"Student names and their scores:\")\n",
    "print(student_scores_dict)"
   ]
  },
  {
   "cell_type": "markdown",
   "id": "5f99bc51-5301-4f8b-a2c7-0146dd64a611",
   "metadata": {},
   "source": [
    "# Done"
   ]
  },
  {
   "cell_type": "raw",
   "id": "f6ce8ae9-554f-4c01-845e-a21d5839e3f1",
   "metadata": {},
   "source": [
    "(b) Set Operations (10 Marks)\n",
    "\n",
    "You have two sets representing programming languages known by two developers:\n",
    "    developer_1 = {\"Python\", \"Java\", \"C++\", \"JavaScript\"}\n",
    "    developer_2 = {\"Ruby\", \"JavaScript\", \"Python\", \"Go\"}\n",
    "\n",
    "Perform the following tasks:\n",
    "Find the set of languages known by both developers. (3 Marks)\n",
    "Find the set of languages known by developer_1 but not by developer_2. (3 Marks)\n",
    "Create a set of all languages known by either developer. (4 Marks)"
   ]
  },
  {
   "cell_type": "code",
   "execution_count": 36,
   "id": "1394e496-3b33-4af6-a7f4-779a74380976",
   "metadata": {},
   "outputs": [],
   "source": [
    "developer_1 = {\"Python\", \"Java\", \"C++\", \"JavaScript\"}\n",
    "developer_2 = {\"Ruby\", \"JavaScript\", \"Python\", \"Go\"}"
   ]
  },
  {
   "cell_type": "code",
   "execution_count": 38,
   "id": "722e1d88-08c6-4b77-b9ed-be14f83f25c9",
   "metadata": {},
   "outputs": [
    {
     "name": "stdout",
     "output_type": "stream",
     "text": [
      "Languages known by both developers: {'JavaScript', 'Python'}\n"
     ]
    }
   ],
   "source": [
    "common_languages = developer_1 & developer_2\n",
    "print(\"Languages known by both developers:\", common_languages)"
   ]
  },
  {
   "cell_type": "code",
   "execution_count": 40,
   "id": "9317b137-88c7-473e-b1d0-a79bce4c22d1",
   "metadata": {},
   "outputs": [
    {
     "name": "stdout",
     "output_type": "stream",
     "text": [
      "Languages known by developer_1 but not by developer_2: {'Java', 'C++'}\n"
     ]
    }
   ],
   "source": [
    "languages_only_dev_1 = developer_1 - developer_2\n",
    "print(\"Languages known by developer_1 but not by developer_2:\", languages_only_dev_1)"
   ]
  },
  {
   "cell_type": "code",
   "execution_count": 42,
   "id": "2a86b396-068c-4263-aa35-e4279eb3ea28",
   "metadata": {},
   "outputs": [
    {
     "name": "stdout",
     "output_type": "stream",
     "text": [
      "Languages known by either developer: {'JavaScript', 'Go', 'Java', 'C++', 'Ruby', 'Python'}\n"
     ]
    }
   ],
   "source": [
    "all_languages = developer_1 | developer_2\n",
    "print(\"Languages known by either developer:\", all_languages)"
   ]
  },
  {
   "cell_type": "markdown",
   "id": "fafd0f78-91ef-46d6-9f80-eff231762aed",
   "metadata": {},
   "source": [
    "# Done"
   ]
  },
  {
   "cell_type": "raw",
   "id": "869d1633-4305-4755-b55b-f273eecf6b15",
   "metadata": {},
   "source": [
    "Question 3: NumPy Array Operations (15 Marks)\n",
    "\n",
    "(a) Array Creation and Mathematical Operations (10 Marks)\n",
    "\n",
    "Create a NumPy array A of shape (3, 3) with values from 1 to 9. (2 Marks)\n",
    "Compute the inverse of matrix A. (4 Marks)\n",
    "Verify that the dot product of A and its inverse yields the identity matrix. (4 Marks)\n",
    "\n",
    "Note: Handle the case where the matrix might be singular."
   ]
  },
  {
   "cell_type": "code",
   "execution_count": 45,
   "id": "62f7ad9f-47c2-4261-b97f-a6a33645e934",
   "metadata": {},
   "outputs": [
    {
     "name": "stdout",
     "output_type": "stream",
     "text": [
      "Matrix A:\n",
      "[[1 2 3]\n",
      " [4 5 6]\n",
      " [7 8 9]]\n"
     ]
    }
   ],
   "source": [
    "import numpy as np\n",
    "\n",
    "A = np.arange(1, 10).reshape(3, 3)\n",
    "print(\"Matrix A:\")\n",
    "print(A)"
   ]
  },
  {
   "cell_type": "code",
   "execution_count": 47,
   "id": "4d392972-1a5a-4376-8cf7-3e2eeb9868a7",
   "metadata": {},
   "outputs": [
    {
     "data": {
      "text/plain": [
       "-9.51619735392994e-16"
      ]
     },
     "execution_count": 47,
     "metadata": {},
     "output_type": "execute_result"
    }
   ],
   "source": [
    "det_A = np.linalg.det(A)\n",
    "det_A"
   ]
  },
  {
   "cell_type": "code",
   "execution_count": 49,
   "id": "8c2c00e9-1b30-4664-a001-8c293012b56f",
   "metadata": {},
   "outputs": [
    {
     "data": {
      "text/plain": [
       "array([[ 3.15251974e+15, -6.30503948e+15,  3.15251974e+15],\n",
       "       [-6.30503948e+15,  1.26100790e+16, -6.30503948e+15],\n",
       "       [ 3.15251974e+15, -6.30503948e+15,  3.15251974e+15]])"
      ]
     },
     "execution_count": 49,
     "metadata": {},
     "output_type": "execute_result"
    }
   ],
   "source": [
    "A_inv = np.linalg.inv(A)\n",
    "A_inv"
   ]
  },
  {
   "cell_type": "code",
   "execution_count": 51,
   "id": "4e214e19-9508-4a02-94dd-95b7378ddf14",
   "metadata": {},
   "outputs": [
    {
     "data": {
      "text/plain": [
       "array([[ 0. ,  1. , -0.5],\n",
       "       [ 0. ,  2. , -1. ],\n",
       "       [ 0. ,  3. ,  2.5]])"
      ]
     },
     "execution_count": 51,
     "metadata": {},
     "output_type": "execute_result"
    }
   ],
   "source": [
    "identity_matrix = np.dot(A, A_inv)\n",
    "identity_matrix"
   ]
  },
  {
   "cell_type": "code",
   "execution_count": 53,
   "id": "ec702ca5-9c73-4690-95aa-30262acff745",
   "metadata": {},
   "outputs": [
    {
     "name": "stdout",
     "output_type": "stream",
     "text": [
      "Dot product of A and its inverse (should be identity matrix):\n",
      "[[ 0.   1.  -0.5]\n",
      " [ 0.   2.  -1. ]\n",
      " [ 0.   3.   2.5]]\n"
     ]
    }
   ],
   "source": [
    "print(\"Dot product of A and its inverse (should be identity matrix):\")\n",
    "print(identity_matrix)"
   ]
  },
  {
   "cell_type": "code",
   "execution_count": 55,
   "id": "004e158b-579b-48a4-9d8f-1c651ac69900",
   "metadata": {},
   "outputs": [
    {
     "data": {
      "text/plain": [
       "array([[1., 0., 0.],\n",
       "       [0., 1., 0.],\n",
       "       [0., 0., 1.]])"
      ]
     },
     "execution_count": 55,
     "metadata": {},
     "output_type": "execute_result"
    }
   ],
   "source": [
    " np.eye(3)"
   ]
  },
  {
   "cell_type": "code",
   "execution_count": 57,
   "id": "7b82ca89-77e1-4dc3-8d48-8d98ff2a7f31",
   "metadata": {},
   "outputs": [],
   "source": [
    "try:\n",
    "    det_A = np.linalg.det(A)\n",
    "    if det_A == 0:\n",
    "        raise ValueError(\"Matrix A is singular and does not have an inverse.\")\n",
    "except ValueError as e:\n",
    "    print(f\"Error: {e}\")"
   ]
  },
  {
   "cell_type": "code",
   "execution_count": 59,
   "id": "0427c2cc-b4e4-4f48-a87d-494c4d608964",
   "metadata": {},
   "outputs": [
    {
     "name": "stdout",
     "output_type": "stream",
     "text": [
      "Verification failed: The dot product is not the identity matrix.\n"
     ]
    }
   ],
   "source": [
    "if np.allclose(identity_matrix, np.eye(3)):\n",
    "    print(\"Verification successful: The dot product is the identity matrix.\")\n",
    "else:\n",
    "    print(\"Verification failed: The dot product is not the identity matrix.\")"
   ]
  },
  {
   "cell_type": "markdown",
   "id": "6fe06e37-0c9c-4c1f-aab1-078578f3c797",
   "metadata": {},
   "source": [
    "# Done"
   ]
  },
  {
   "cell_type": "raw",
   "id": "10c65875-622e-4ab3-a6d5-f0fb4740f5c4",
   "metadata": {},
   "source": [
    "(b) Statistical Functions (5 Marks)\n",
    "\n",
    "Given a NumPy array of exam scores:\n",
    "    scores = np.array([88, 75, 92, 85, 79, 95, 68, 74, 81, 90])\n",
    "\n",
    "Calculate the mean, median, and standard deviation of the scores. (3 Marks)\n",
    "Determine the percentage of students who scored above the mean. (2 Marks)"
   ]
  },
  {
   "cell_type": "code",
   "execution_count": 62,
   "id": "61ee7b19-149a-40b7-b6ba-7bb4734d9a17",
   "metadata": {},
   "outputs": [
    {
     "data": {
      "text/plain": [
       "array([88, 75, 92, 85, 79, 95, 68, 74, 81, 90])"
      ]
     },
     "execution_count": 62,
     "metadata": {},
     "output_type": "execute_result"
    }
   ],
   "source": [
    "import numpy as np\n",
    "scores = np.array([88, 75, 92, 85, 79, 95, 68, 74, 81, 90])\n",
    "scores"
   ]
  },
  {
   "cell_type": "code",
   "execution_count": 64,
   "id": "911d64e0-168b-412f-9353-458f1c6d0d1b",
   "metadata": {},
   "outputs": [
    {
     "name": "stdout",
     "output_type": "stream",
     "text": [
      "Mean score: 82.7\n",
      "Median score: 83.0\n",
      "Standard deviation: 8.31925477431723\n"
     ]
    }
   ],
   "source": [
    "mean_score = np.mean(scores)\n",
    "median_score = np.median(scores)\n",
    "std_deviation = np.std(scores)\n",
    "\n",
    "print(f\"Mean score: {mean_score}\")\n",
    "print(f\"Median score: {median_score}\")\n",
    "print(f\"Standard deviation: {std_deviation}\")"
   ]
  },
  {
   "cell_type": "code",
   "execution_count": 66,
   "id": "f455eca1-2349-448d-aa46-40127e769e01",
   "metadata": {},
   "outputs": [
    {
     "data": {
      "text/plain": [
       "5"
      ]
     },
     "execution_count": 66,
     "metadata": {},
     "output_type": "execute_result"
    }
   ],
   "source": [
    "above_mean = np.sum(scores > mean_score)  # Count how many students scored above the mean\n",
    "above_mean"
   ]
  },
  {
   "cell_type": "code",
   "execution_count": 68,
   "id": "18137865-5784-4e48-bbae-5e92dd82d7bb",
   "metadata": {},
   "outputs": [
    {
     "data": {
      "text/plain": [
       "10"
      ]
     },
     "execution_count": 68,
     "metadata": {},
     "output_type": "execute_result"
    }
   ],
   "source": [
    "len(scores)"
   ]
  },
  {
   "cell_type": "code",
   "execution_count": 70,
   "id": "3cf14621-6671-4cd2-b309-a0256cb2a53b",
   "metadata": {},
   "outputs": [
    {
     "data": {
      "text/plain": [
       "50.0"
      ]
     },
     "execution_count": 70,
     "metadata": {},
     "output_type": "execute_result"
    }
   ],
   "source": [
    "percentage_above_mean = (above_mean / len(scores)) * 100\n",
    "percentage_above_mean"
   ]
  },
  {
   "cell_type": "code",
   "execution_count": 72,
   "id": "c4909f98-a277-409c-ab21-1f6ca6bf33c2",
   "metadata": {},
   "outputs": [
    {
     "name": "stdout",
     "output_type": "stream",
     "text": [
      "Percentage of students who scored above the mean: 50.00%\n"
     ]
    }
   ],
   "source": [
    "print(f\"Percentage of students who scored above the mean: {percentage_above_mean:.2f}%\")"
   ]
  },
  {
   "cell_type": "markdown",
   "id": "9f576fdf-40a9-43e4-a5f1-d58fb786df6d",
   "metadata": {},
   "source": [
    "# Done"
   ]
  },
  {
   "cell_type": "raw",
   "id": "6240fad0-edce-49b6-8ad9-0126667eb465",
   "metadata": {},
   "source": [
    "Question 4: Data Analysis with Pandas (25 Marks)\n",
    "\n",
    "You are provided with a CSV file transactions.csv containing the following columns:\n",
    "    'TransactionID', 'CustomerID', 'Product', 'Category', 'Quantity', 'UnitPrice','TransactionDate'.\n",
    "\n",
    "(a) Data Loading and Cleaning (10 Marks)\n",
    "\n",
    "Load the dataset into a Pandas DataFrame. (2 Marks)\n",
    "Convert 'TransactionDate' to datetime format and extract the month into a new column'Month'. (3 Marks)\n",
    "Check for missing values and handle them appropriately. Explain your method. (5 Marks)"
   ]
  },
  {
   "cell_type": "code",
   "execution_count": 75,
   "id": "4a1a0791-c7c3-4aff-96c3-abcf40bf57ba",
   "metadata": {},
   "outputs": [
    {
     "data": {
      "text/html": [
       "<div>\n",
       "<style scoped>\n",
       "    .dataframe tbody tr th:only-of-type {\n",
       "        vertical-align: middle;\n",
       "    }\n",
       "\n",
       "    .dataframe tbody tr th {\n",
       "        vertical-align: top;\n",
       "    }\n",
       "\n",
       "    .dataframe thead th {\n",
       "        text-align: right;\n",
       "    }\n",
       "</style>\n",
       "<table border=\"1\" class=\"dataframe\">\n",
       "  <thead>\n",
       "    <tr style=\"text-align: right;\">\n",
       "      <th></th>\n",
       "      <th>TransactionID</th>\n",
       "      <th>CustomerID</th>\n",
       "      <th>Product</th>\n",
       "      <th>Category</th>\n",
       "      <th>Quantity</th>\n",
       "      <th>UnitPrice</th>\n",
       "      <th>TransactionDate</th>\n",
       "    </tr>\n",
       "  </thead>\n",
       "  <tbody>\n",
       "    <tr>\n",
       "      <th>0</th>\n",
       "      <td>1</td>\n",
       "      <td>101</td>\n",
       "      <td>Laptop</td>\n",
       "      <td>Electronics</td>\n",
       "      <td>2</td>\n",
       "      <td>1000</td>\n",
       "      <td>2023-01-01</td>\n",
       "    </tr>\n",
       "    <tr>\n",
       "      <th>1</th>\n",
       "      <td>2</td>\n",
       "      <td>102</td>\n",
       "      <td>Smartphone</td>\n",
       "      <td>Electronics</td>\n",
       "      <td>3</td>\n",
       "      <td>800</td>\n",
       "      <td>2023-01-02</td>\n",
       "    </tr>\n",
       "    <tr>\n",
       "      <th>2</th>\n",
       "      <td>3</td>\n",
       "      <td>103</td>\n",
       "      <td>Tablet</td>\n",
       "      <td>Electronics</td>\n",
       "      <td>1</td>\n",
       "      <td>400</td>\n",
       "      <td>2023-01-03</td>\n",
       "    </tr>\n",
       "    <tr>\n",
       "      <th>3</th>\n",
       "      <td>4</td>\n",
       "      <td>104</td>\n",
       "      <td>Monitor</td>\n",
       "      <td>Electronics</td>\n",
       "      <td>5</td>\n",
       "      <td>300</td>\n",
       "      <td>2023-01-04</td>\n",
       "    </tr>\n",
       "    <tr>\n",
       "      <th>4</th>\n",
       "      <td>5</td>\n",
       "      <td>105</td>\n",
       "      <td>Keyboard</td>\n",
       "      <td>Accessories</td>\n",
       "      <td>10</td>\n",
       "      <td>50</td>\n",
       "      <td>2023-01-05</td>\n",
       "    </tr>\n",
       "    <tr>\n",
       "      <th>5</th>\n",
       "      <td>6</td>\n",
       "      <td>106</td>\n",
       "      <td>Mouse</td>\n",
       "      <td>Accessories</td>\n",
       "      <td>15</td>\n",
       "      <td>20</td>\n",
       "      <td>2023-01-06</td>\n",
       "    </tr>\n",
       "    <tr>\n",
       "      <th>6</th>\n",
       "      <td>7</td>\n",
       "      <td>107</td>\n",
       "      <td>Headphones</td>\n",
       "      <td>Accessories</td>\n",
       "      <td>8</td>\n",
       "      <td>100</td>\n",
       "      <td>2023-01-07</td>\n",
       "    </tr>\n",
       "    <tr>\n",
       "      <th>7</th>\n",
       "      <td>8</td>\n",
       "      <td>108</td>\n",
       "      <td>Printer</td>\n",
       "      <td>Electronics</td>\n",
       "      <td>2</td>\n",
       "      <td>200</td>\n",
       "      <td>2023-01-08</td>\n",
       "    </tr>\n",
       "    <tr>\n",
       "      <th>8</th>\n",
       "      <td>9</td>\n",
       "      <td>109</td>\n",
       "      <td>Camera</td>\n",
       "      <td>Electronics</td>\n",
       "      <td>1</td>\n",
       "      <td>500</td>\n",
       "      <td>2023-01-09</td>\n",
       "    </tr>\n",
       "    <tr>\n",
       "      <th>9</th>\n",
       "      <td>10</td>\n",
       "      <td>110</td>\n",
       "      <td>Router</td>\n",
       "      <td>Networking</td>\n",
       "      <td>4</td>\n",
       "      <td>150</td>\n",
       "      <td>2023-01-10</td>\n",
       "    </tr>\n",
       "  </tbody>\n",
       "</table>\n",
       "</div>"
      ],
      "text/plain": [
       "   TransactionID  CustomerID     Product     Category  Quantity  UnitPrice  \\\n",
       "0              1         101      Laptop  Electronics         2       1000   \n",
       "1              2         102  Smartphone  Electronics         3        800   \n",
       "2              3         103      Tablet  Electronics         1        400   \n",
       "3              4         104     Monitor  Electronics         5        300   \n",
       "4              5         105    Keyboard  Accessories        10         50   \n",
       "5              6         106       Mouse  Accessories        15         20   \n",
       "6              7         107  Headphones  Accessories         8        100   \n",
       "7              8         108     Printer  Electronics         2        200   \n",
       "8              9         109      Camera  Electronics         1        500   \n",
       "9             10         110      Router   Networking         4        150   \n",
       "\n",
       "  TransactionDate  \n",
       "0      2023-01-01  \n",
       "1      2023-01-02  \n",
       "2      2023-01-03  \n",
       "3      2023-01-04  \n",
       "4      2023-01-05  \n",
       "5      2023-01-06  \n",
       "6      2023-01-07  \n",
       "7      2023-01-08  \n",
       "8      2023-01-09  \n",
       "9      2023-01-10  "
      ]
     },
     "execution_count": 75,
     "metadata": {},
     "output_type": "execute_result"
    }
   ],
   "source": [
    "import pandas as pd\n",
    "\n",
    "df = pd.read_csv('transactions.csv')\n",
    "df"
   ]
  },
  {
   "cell_type": "code",
   "execution_count": 77,
   "id": "05545f6f-9c1f-4a24-a1ea-0804f2db50bf",
   "metadata": {},
   "outputs": [
    {
     "data": {
      "text/plain": [
       "pandas.core.frame.DataFrame"
      ]
     },
     "execution_count": 77,
     "metadata": {},
     "output_type": "execute_result"
    }
   ],
   "source": [
    "type(df.head())"
   ]
  },
  {
   "cell_type": "code",
   "execution_count": 79,
   "id": "8d583db7-bc6c-4c31-bf41-e35558e03ef7",
   "metadata": {},
   "outputs": [
    {
     "name": "stdout",
     "output_type": "stream",
     "text": [
      "   TransactionID  CustomerID     Product     Category  Quantity  UnitPrice  \\\n",
      "0              1         101      Laptop  Electronics         2       1000   \n",
      "1              2         102  Smartphone  Electronics         3        800   \n",
      "2              3         103      Tablet  Electronics         1        400   \n",
      "3              4         104     Monitor  Electronics         5        300   \n",
      "4              5         105    Keyboard  Accessories        10         50   \n",
      "\n",
      "  TransactionDate  \n",
      "0      2023-01-01  \n",
      "1      2023-01-02  \n",
      "2      2023-01-03  \n",
      "3      2023-01-04  \n",
      "4      2023-01-05  \n"
     ]
    }
   ],
   "source": [
    "print(df.head())"
   ]
  },
  {
   "cell_type": "code",
   "execution_count": 81,
   "id": "054b2e00-3c4e-498b-9dc5-ba12bc3fa44c",
   "metadata": {},
   "outputs": [
    {
     "data": {
      "text/html": [
       "<div>\n",
       "<style scoped>\n",
       "    .dataframe tbody tr th:only-of-type {\n",
       "        vertical-align: middle;\n",
       "    }\n",
       "\n",
       "    .dataframe tbody tr th {\n",
       "        vertical-align: top;\n",
       "    }\n",
       "\n",
       "    .dataframe thead th {\n",
       "        text-align: right;\n",
       "    }\n",
       "</style>\n",
       "<table border=\"1\" class=\"dataframe\">\n",
       "  <thead>\n",
       "    <tr style=\"text-align: right;\">\n",
       "      <th></th>\n",
       "      <th>TransactionID</th>\n",
       "      <th>CustomerID</th>\n",
       "      <th>Product</th>\n",
       "      <th>Category</th>\n",
       "      <th>Quantity</th>\n",
       "      <th>UnitPrice</th>\n",
       "      <th>TransactionDate</th>\n",
       "    </tr>\n",
       "  </thead>\n",
       "  <tbody>\n",
       "    <tr>\n",
       "      <th>0</th>\n",
       "      <td>1</td>\n",
       "      <td>101</td>\n",
       "      <td>Laptop</td>\n",
       "      <td>Electronics</td>\n",
       "      <td>2</td>\n",
       "      <td>1000</td>\n",
       "      <td>2023-01-01</td>\n",
       "    </tr>\n",
       "    <tr>\n",
       "      <th>1</th>\n",
       "      <td>2</td>\n",
       "      <td>102</td>\n",
       "      <td>Smartphone</td>\n",
       "      <td>Electronics</td>\n",
       "      <td>3</td>\n",
       "      <td>800</td>\n",
       "      <td>2023-01-02</td>\n",
       "    </tr>\n",
       "    <tr>\n",
       "      <th>2</th>\n",
       "      <td>3</td>\n",
       "      <td>103</td>\n",
       "      <td>Tablet</td>\n",
       "      <td>Electronics</td>\n",
       "      <td>1</td>\n",
       "      <td>400</td>\n",
       "      <td>2023-01-03</td>\n",
       "    </tr>\n",
       "    <tr>\n",
       "      <th>3</th>\n",
       "      <td>4</td>\n",
       "      <td>104</td>\n",
       "      <td>Monitor</td>\n",
       "      <td>Electronics</td>\n",
       "      <td>5</td>\n",
       "      <td>300</td>\n",
       "      <td>2023-01-04</td>\n",
       "    </tr>\n",
       "    <tr>\n",
       "      <th>4</th>\n",
       "      <td>5</td>\n",
       "      <td>105</td>\n",
       "      <td>Keyboard</td>\n",
       "      <td>Accessories</td>\n",
       "      <td>10</td>\n",
       "      <td>50</td>\n",
       "      <td>2023-01-05</td>\n",
       "    </tr>\n",
       "    <tr>\n",
       "      <th>5</th>\n",
       "      <td>6</td>\n",
       "      <td>106</td>\n",
       "      <td>Mouse</td>\n",
       "      <td>Accessories</td>\n",
       "      <td>15</td>\n",
       "      <td>20</td>\n",
       "      <td>2023-01-06</td>\n",
       "    </tr>\n",
       "    <tr>\n",
       "      <th>6</th>\n",
       "      <td>7</td>\n",
       "      <td>107</td>\n",
       "      <td>Headphones</td>\n",
       "      <td>Accessories</td>\n",
       "      <td>8</td>\n",
       "      <td>100</td>\n",
       "      <td>2023-01-07</td>\n",
       "    </tr>\n",
       "    <tr>\n",
       "      <th>7</th>\n",
       "      <td>8</td>\n",
       "      <td>108</td>\n",
       "      <td>Printer</td>\n",
       "      <td>Electronics</td>\n",
       "      <td>2</td>\n",
       "      <td>200</td>\n",
       "      <td>2023-01-08</td>\n",
       "    </tr>\n",
       "    <tr>\n",
       "      <th>8</th>\n",
       "      <td>9</td>\n",
       "      <td>109</td>\n",
       "      <td>Camera</td>\n",
       "      <td>Electronics</td>\n",
       "      <td>1</td>\n",
       "      <td>500</td>\n",
       "      <td>2023-01-09</td>\n",
       "    </tr>\n",
       "    <tr>\n",
       "      <th>9</th>\n",
       "      <td>10</td>\n",
       "      <td>110</td>\n",
       "      <td>Router</td>\n",
       "      <td>Networking</td>\n",
       "      <td>4</td>\n",
       "      <td>150</td>\n",
       "      <td>2023-01-10</td>\n",
       "    </tr>\n",
       "  </tbody>\n",
       "</table>\n",
       "</div>"
      ],
      "text/plain": [
       "   TransactionID  CustomerID     Product     Category  Quantity  UnitPrice  \\\n",
       "0              1         101      Laptop  Electronics         2       1000   \n",
       "1              2         102  Smartphone  Electronics         3        800   \n",
       "2              3         103      Tablet  Electronics         1        400   \n",
       "3              4         104     Monitor  Electronics         5        300   \n",
       "4              5         105    Keyboard  Accessories        10         50   \n",
       "5              6         106       Mouse  Accessories        15         20   \n",
       "6              7         107  Headphones  Accessories         8        100   \n",
       "7              8         108     Printer  Electronics         2        200   \n",
       "8              9         109      Camera  Electronics         1        500   \n",
       "9             10         110      Router   Networking         4        150   \n",
       "\n",
       "  TransactionDate  \n",
       "0      2023-01-01  \n",
       "1      2023-01-02  \n",
       "2      2023-01-03  \n",
       "3      2023-01-04  \n",
       "4      2023-01-05  \n",
       "5      2023-01-06  \n",
       "6      2023-01-07  \n",
       "7      2023-01-08  \n",
       "8      2023-01-09  \n",
       "9      2023-01-10  "
      ]
     },
     "execution_count": 81,
     "metadata": {},
     "output_type": "execute_result"
    }
   ],
   "source": [
    "df['TransactionDate'] = pd.to_datetime(df['TransactionDate'])  # Convert to datetime\n",
    "df"
   ]
  },
  {
   "cell_type": "code",
   "execution_count": 83,
   "id": "3225cf09-4bbb-4c11-b805-f0db74f0d861",
   "metadata": {},
   "outputs": [
    {
     "data": {
      "text/plain": [
       "0   2023-01-01\n",
       "1   2023-01-02\n",
       "2   2023-01-03\n",
       "3   2023-01-04\n",
       "4   2023-01-05\n",
       "5   2023-01-06\n",
       "6   2023-01-07\n",
       "7   2023-01-08\n",
       "8   2023-01-09\n",
       "9   2023-01-10\n",
       "Name: TransactionDate, dtype: datetime64[ns]"
      ]
     },
     "execution_count": 83,
     "metadata": {},
     "output_type": "execute_result"
    }
   ],
   "source": [
    "df['TransactionDate']"
   ]
  },
  {
   "cell_type": "code",
   "execution_count": 85,
   "id": "e23e50e7-dd73-4a53-a699-c223cecaff7f",
   "metadata": {},
   "outputs": [
    {
     "data": {
      "text/plain": [
       "pandas.core.series.Series"
      ]
     },
     "execution_count": 85,
     "metadata": {},
     "output_type": "execute_result"
    }
   ],
   "source": [
    "type(df['TransactionDate'])"
   ]
  },
  {
   "cell_type": "code",
   "execution_count": 87,
   "id": "70a67a8b-6021-4f9f-a581-dd21338c841b",
   "metadata": {},
   "outputs": [
    {
     "data": {
      "text/html": [
       "<div>\n",
       "<style scoped>\n",
       "    .dataframe tbody tr th:only-of-type {\n",
       "        vertical-align: middle;\n",
       "    }\n",
       "\n",
       "    .dataframe tbody tr th {\n",
       "        vertical-align: top;\n",
       "    }\n",
       "\n",
       "    .dataframe thead th {\n",
       "        text-align: right;\n",
       "    }\n",
       "</style>\n",
       "<table border=\"1\" class=\"dataframe\">\n",
       "  <thead>\n",
       "    <tr style=\"text-align: right;\">\n",
       "      <th></th>\n",
       "      <th>TransactionID</th>\n",
       "      <th>CustomerID</th>\n",
       "      <th>Product</th>\n",
       "      <th>Category</th>\n",
       "      <th>Quantity</th>\n",
       "      <th>UnitPrice</th>\n",
       "      <th>TransactionDate</th>\n",
       "      <th>Month</th>\n",
       "    </tr>\n",
       "  </thead>\n",
       "  <tbody>\n",
       "    <tr>\n",
       "      <th>0</th>\n",
       "      <td>1</td>\n",
       "      <td>101</td>\n",
       "      <td>Laptop</td>\n",
       "      <td>Electronics</td>\n",
       "      <td>2</td>\n",
       "      <td>1000</td>\n",
       "      <td>2023-01-01</td>\n",
       "      <td>1</td>\n",
       "    </tr>\n",
       "    <tr>\n",
       "      <th>1</th>\n",
       "      <td>2</td>\n",
       "      <td>102</td>\n",
       "      <td>Smartphone</td>\n",
       "      <td>Electronics</td>\n",
       "      <td>3</td>\n",
       "      <td>800</td>\n",
       "      <td>2023-01-02</td>\n",
       "      <td>1</td>\n",
       "    </tr>\n",
       "    <tr>\n",
       "      <th>2</th>\n",
       "      <td>3</td>\n",
       "      <td>103</td>\n",
       "      <td>Tablet</td>\n",
       "      <td>Electronics</td>\n",
       "      <td>1</td>\n",
       "      <td>400</td>\n",
       "      <td>2023-01-03</td>\n",
       "      <td>1</td>\n",
       "    </tr>\n",
       "    <tr>\n",
       "      <th>3</th>\n",
       "      <td>4</td>\n",
       "      <td>104</td>\n",
       "      <td>Monitor</td>\n",
       "      <td>Electronics</td>\n",
       "      <td>5</td>\n",
       "      <td>300</td>\n",
       "      <td>2023-01-04</td>\n",
       "      <td>1</td>\n",
       "    </tr>\n",
       "    <tr>\n",
       "      <th>4</th>\n",
       "      <td>5</td>\n",
       "      <td>105</td>\n",
       "      <td>Keyboard</td>\n",
       "      <td>Accessories</td>\n",
       "      <td>10</td>\n",
       "      <td>50</td>\n",
       "      <td>2023-01-05</td>\n",
       "      <td>1</td>\n",
       "    </tr>\n",
       "    <tr>\n",
       "      <th>5</th>\n",
       "      <td>6</td>\n",
       "      <td>106</td>\n",
       "      <td>Mouse</td>\n",
       "      <td>Accessories</td>\n",
       "      <td>15</td>\n",
       "      <td>20</td>\n",
       "      <td>2023-01-06</td>\n",
       "      <td>1</td>\n",
       "    </tr>\n",
       "    <tr>\n",
       "      <th>6</th>\n",
       "      <td>7</td>\n",
       "      <td>107</td>\n",
       "      <td>Headphones</td>\n",
       "      <td>Accessories</td>\n",
       "      <td>8</td>\n",
       "      <td>100</td>\n",
       "      <td>2023-01-07</td>\n",
       "      <td>1</td>\n",
       "    </tr>\n",
       "    <tr>\n",
       "      <th>7</th>\n",
       "      <td>8</td>\n",
       "      <td>108</td>\n",
       "      <td>Printer</td>\n",
       "      <td>Electronics</td>\n",
       "      <td>2</td>\n",
       "      <td>200</td>\n",
       "      <td>2023-01-08</td>\n",
       "      <td>1</td>\n",
       "    </tr>\n",
       "    <tr>\n",
       "      <th>8</th>\n",
       "      <td>9</td>\n",
       "      <td>109</td>\n",
       "      <td>Camera</td>\n",
       "      <td>Electronics</td>\n",
       "      <td>1</td>\n",
       "      <td>500</td>\n",
       "      <td>2023-01-09</td>\n",
       "      <td>1</td>\n",
       "    </tr>\n",
       "    <tr>\n",
       "      <th>9</th>\n",
       "      <td>10</td>\n",
       "      <td>110</td>\n",
       "      <td>Router</td>\n",
       "      <td>Networking</td>\n",
       "      <td>4</td>\n",
       "      <td>150</td>\n",
       "      <td>2023-01-10</td>\n",
       "      <td>1</td>\n",
       "    </tr>\n",
       "  </tbody>\n",
       "</table>\n",
       "</div>"
      ],
      "text/plain": [
       "   TransactionID  CustomerID     Product     Category  Quantity  UnitPrice  \\\n",
       "0              1         101      Laptop  Electronics         2       1000   \n",
       "1              2         102  Smartphone  Electronics         3        800   \n",
       "2              3         103      Tablet  Electronics         1        400   \n",
       "3              4         104     Monitor  Electronics         5        300   \n",
       "4              5         105    Keyboard  Accessories        10         50   \n",
       "5              6         106       Mouse  Accessories        15         20   \n",
       "6              7         107  Headphones  Accessories         8        100   \n",
       "7              8         108     Printer  Electronics         2        200   \n",
       "8              9         109      Camera  Electronics         1        500   \n",
       "9             10         110      Router   Networking         4        150   \n",
       "\n",
       "  TransactionDate  Month  \n",
       "0      2023-01-01      1  \n",
       "1      2023-01-02      1  \n",
       "2      2023-01-03      1  \n",
       "3      2023-01-04      1  \n",
       "4      2023-01-05      1  \n",
       "5      2023-01-06      1  \n",
       "6      2023-01-07      1  \n",
       "7      2023-01-08      1  \n",
       "8      2023-01-09      1  \n",
       "9      2023-01-10      1  "
      ]
     },
     "execution_count": 87,
     "metadata": {},
     "output_type": "execute_result"
    }
   ],
   "source": [
    "df['Month'] = df['TransactionDate'].dt.month  # Extract the month\n",
    "df"
   ]
  },
  {
   "cell_type": "code",
   "execution_count": 89,
   "id": "eefd448b-24db-434b-8b4f-7a97af1aaf9f",
   "metadata": {},
   "outputs": [
    {
     "name": "stdout",
     "output_type": "stream",
     "text": [
      "DataFrame with 'Month' column added:\n",
      "\n",
      "   TransactionID  CustomerID     Product     Category  Quantity  UnitPrice  \\\n",
      "0              1         101      Laptop  Electronics         2       1000   \n",
      "1              2         102  Smartphone  Electronics         3        800   \n",
      "2              3         103      Tablet  Electronics         1        400   \n",
      "3              4         104     Monitor  Electronics         5        300   \n",
      "4              5         105    Keyboard  Accessories        10         50   \n",
      "\n",
      "  TransactionDate  Month  \n",
      "0      2023-01-01      1  \n",
      "1      2023-01-02      1  \n",
      "2      2023-01-03      1  \n",
      "3      2023-01-04      1  \n",
      "4      2023-01-05      1  \n"
     ]
    }
   ],
   "source": [
    "print(\"DataFrame with 'Month' column added:\\n\")\n",
    "print(df.head())"
   ]
  },
  {
   "cell_type": "code",
   "execution_count": 91,
   "id": "60a3441a-8897-4d7b-a1a2-66163276b3aa",
   "metadata": {},
   "outputs": [
    {
     "name": "stdout",
     "output_type": "stream",
     "text": [
      "Missing values per column:\n",
      "\n",
      "TransactionID      0\n",
      "CustomerID         0\n",
      "Product            0\n",
      "Category           0\n",
      "Quantity           0\n",
      "UnitPrice          0\n",
      "TransactionDate    0\n",
      "Month              0\n",
      "dtype: int64\n"
     ]
    }
   ],
   "source": [
    "missing_values = df.isnull().sum()  # Count missing values per column\n",
    "print(\"Missing values per column:\\n\")\n",
    "print(missing_values)"
   ]
  },
  {
   "cell_type": "code",
   "execution_count": 93,
   "id": "6c2bd19b-4b5b-4cb7-9fa7-9eb471bffad7",
   "metadata": {},
   "outputs": [
    {
     "data": {
      "text/html": [
       "<div>\n",
       "<style scoped>\n",
       "    .dataframe tbody tr th:only-of-type {\n",
       "        vertical-align: middle;\n",
       "    }\n",
       "\n",
       "    .dataframe tbody tr th {\n",
       "        vertical-align: top;\n",
       "    }\n",
       "\n",
       "    .dataframe thead th {\n",
       "        text-align: right;\n",
       "    }\n",
       "</style>\n",
       "<table border=\"1\" class=\"dataframe\">\n",
       "  <thead>\n",
       "    <tr style=\"text-align: right;\">\n",
       "      <th></th>\n",
       "      <th>TransactionID</th>\n",
       "      <th>CustomerID</th>\n",
       "      <th>Product</th>\n",
       "      <th>Category</th>\n",
       "      <th>Quantity</th>\n",
       "      <th>UnitPrice</th>\n",
       "      <th>TransactionDate</th>\n",
       "      <th>Month</th>\n",
       "    </tr>\n",
       "  </thead>\n",
       "  <tbody>\n",
       "    <tr>\n",
       "      <th>0</th>\n",
       "      <td>1</td>\n",
       "      <td>101</td>\n",
       "      <td>Laptop</td>\n",
       "      <td>Electronics</td>\n",
       "      <td>2</td>\n",
       "      <td>1000</td>\n",
       "      <td>2023-01-01</td>\n",
       "      <td>1</td>\n",
       "    </tr>\n",
       "    <tr>\n",
       "      <th>1</th>\n",
       "      <td>2</td>\n",
       "      <td>102</td>\n",
       "      <td>Smartphone</td>\n",
       "      <td>Electronics</td>\n",
       "      <td>3</td>\n",
       "      <td>800</td>\n",
       "      <td>2023-01-02</td>\n",
       "      <td>1</td>\n",
       "    </tr>\n",
       "    <tr>\n",
       "      <th>2</th>\n",
       "      <td>3</td>\n",
       "      <td>103</td>\n",
       "      <td>Tablet</td>\n",
       "      <td>Electronics</td>\n",
       "      <td>1</td>\n",
       "      <td>400</td>\n",
       "      <td>2023-01-03</td>\n",
       "      <td>1</td>\n",
       "    </tr>\n",
       "    <tr>\n",
       "      <th>3</th>\n",
       "      <td>4</td>\n",
       "      <td>104</td>\n",
       "      <td>Monitor</td>\n",
       "      <td>Electronics</td>\n",
       "      <td>5</td>\n",
       "      <td>300</td>\n",
       "      <td>2023-01-04</td>\n",
       "      <td>1</td>\n",
       "    </tr>\n",
       "    <tr>\n",
       "      <th>4</th>\n",
       "      <td>5</td>\n",
       "      <td>105</td>\n",
       "      <td>Keyboard</td>\n",
       "      <td>Accessories</td>\n",
       "      <td>10</td>\n",
       "      <td>50</td>\n",
       "      <td>2023-01-05</td>\n",
       "      <td>1</td>\n",
       "    </tr>\n",
       "    <tr>\n",
       "      <th>5</th>\n",
       "      <td>6</td>\n",
       "      <td>106</td>\n",
       "      <td>Mouse</td>\n",
       "      <td>Accessories</td>\n",
       "      <td>15</td>\n",
       "      <td>20</td>\n",
       "      <td>2023-01-06</td>\n",
       "      <td>1</td>\n",
       "    </tr>\n",
       "    <tr>\n",
       "      <th>6</th>\n",
       "      <td>7</td>\n",
       "      <td>107</td>\n",
       "      <td>Headphones</td>\n",
       "      <td>Accessories</td>\n",
       "      <td>8</td>\n",
       "      <td>100</td>\n",
       "      <td>2023-01-07</td>\n",
       "      <td>1</td>\n",
       "    </tr>\n",
       "    <tr>\n",
       "      <th>7</th>\n",
       "      <td>8</td>\n",
       "      <td>108</td>\n",
       "      <td>Printer</td>\n",
       "      <td>Electronics</td>\n",
       "      <td>2</td>\n",
       "      <td>200</td>\n",
       "      <td>2023-01-08</td>\n",
       "      <td>1</td>\n",
       "    </tr>\n",
       "    <tr>\n",
       "      <th>8</th>\n",
       "      <td>9</td>\n",
       "      <td>109</td>\n",
       "      <td>Camera</td>\n",
       "      <td>Electronics</td>\n",
       "      <td>1</td>\n",
       "      <td>500</td>\n",
       "      <td>2023-01-09</td>\n",
       "      <td>1</td>\n",
       "    </tr>\n",
       "    <tr>\n",
       "      <th>9</th>\n",
       "      <td>10</td>\n",
       "      <td>110</td>\n",
       "      <td>Router</td>\n",
       "      <td>Networking</td>\n",
       "      <td>4</td>\n",
       "      <td>150</td>\n",
       "      <td>2023-01-10</td>\n",
       "      <td>1</td>\n",
       "    </tr>\n",
       "  </tbody>\n",
       "</table>\n",
       "</div>"
      ],
      "text/plain": [
       "   TransactionID  CustomerID     Product     Category  Quantity  UnitPrice  \\\n",
       "0              1         101      Laptop  Electronics         2       1000   \n",
       "1              2         102  Smartphone  Electronics         3        800   \n",
       "2              3         103      Tablet  Electronics         1        400   \n",
       "3              4         104     Monitor  Electronics         5        300   \n",
       "4              5         105    Keyboard  Accessories        10         50   \n",
       "5              6         106       Mouse  Accessories        15         20   \n",
       "6              7         107  Headphones  Accessories         8        100   \n",
       "7              8         108     Printer  Electronics         2        200   \n",
       "8              9         109      Camera  Electronics         1        500   \n",
       "9             10         110      Router   Networking         4        150   \n",
       "\n",
       "  TransactionDate  Month  \n",
       "0      2023-01-01      1  \n",
       "1      2023-01-02      1  \n",
       "2      2023-01-03      1  \n",
       "3      2023-01-04      1  \n",
       "4      2023-01-05      1  \n",
       "5      2023-01-06      1  \n",
       "6      2023-01-07      1  \n",
       "7      2023-01-08      1  \n",
       "8      2023-01-09      1  \n",
       "9      2023-01-10      1  "
      ]
     },
     "execution_count": 93,
     "metadata": {},
     "output_type": "execute_result"
    }
   ],
   "source": [
    "df['Quantity'].fillna(df['Quantity'].mean(), inplace=True)\n",
    "df"
   ]
  },
  {
   "cell_type": "code",
   "execution_count": 95,
   "id": "b80d3da0-b36b-4c9f-8af0-ea434991ac5b",
   "metadata": {},
   "outputs": [
    {
     "data": {
      "text/html": [
       "<div>\n",
       "<style scoped>\n",
       "    .dataframe tbody tr th:only-of-type {\n",
       "        vertical-align: middle;\n",
       "    }\n",
       "\n",
       "    .dataframe tbody tr th {\n",
       "        vertical-align: top;\n",
       "    }\n",
       "\n",
       "    .dataframe thead th {\n",
       "        text-align: right;\n",
       "    }\n",
       "</style>\n",
       "<table border=\"1\" class=\"dataframe\">\n",
       "  <thead>\n",
       "    <tr style=\"text-align: right;\">\n",
       "      <th></th>\n",
       "      <th>TransactionID</th>\n",
       "      <th>CustomerID</th>\n",
       "      <th>Product</th>\n",
       "      <th>Category</th>\n",
       "      <th>Quantity</th>\n",
       "      <th>UnitPrice</th>\n",
       "      <th>TransactionDate</th>\n",
       "      <th>Month</th>\n",
       "    </tr>\n",
       "  </thead>\n",
       "  <tbody>\n",
       "    <tr>\n",
       "      <th>0</th>\n",
       "      <td>1</td>\n",
       "      <td>101</td>\n",
       "      <td>Laptop</td>\n",
       "      <td>Electronics</td>\n",
       "      <td>2</td>\n",
       "      <td>1000</td>\n",
       "      <td>2023-01-01</td>\n",
       "      <td>1</td>\n",
       "    </tr>\n",
       "    <tr>\n",
       "      <th>1</th>\n",
       "      <td>2</td>\n",
       "      <td>102</td>\n",
       "      <td>Smartphone</td>\n",
       "      <td>Electronics</td>\n",
       "      <td>3</td>\n",
       "      <td>800</td>\n",
       "      <td>2023-01-02</td>\n",
       "      <td>1</td>\n",
       "    </tr>\n",
       "    <tr>\n",
       "      <th>2</th>\n",
       "      <td>3</td>\n",
       "      <td>103</td>\n",
       "      <td>Tablet</td>\n",
       "      <td>Electronics</td>\n",
       "      <td>1</td>\n",
       "      <td>400</td>\n",
       "      <td>2023-01-03</td>\n",
       "      <td>1</td>\n",
       "    </tr>\n",
       "    <tr>\n",
       "      <th>3</th>\n",
       "      <td>4</td>\n",
       "      <td>104</td>\n",
       "      <td>Monitor</td>\n",
       "      <td>Electronics</td>\n",
       "      <td>5</td>\n",
       "      <td>300</td>\n",
       "      <td>2023-01-04</td>\n",
       "      <td>1</td>\n",
       "    </tr>\n",
       "    <tr>\n",
       "      <th>4</th>\n",
       "      <td>5</td>\n",
       "      <td>105</td>\n",
       "      <td>Keyboard</td>\n",
       "      <td>Accessories</td>\n",
       "      <td>10</td>\n",
       "      <td>50</td>\n",
       "      <td>2023-01-05</td>\n",
       "      <td>1</td>\n",
       "    </tr>\n",
       "    <tr>\n",
       "      <th>5</th>\n",
       "      <td>6</td>\n",
       "      <td>106</td>\n",
       "      <td>Mouse</td>\n",
       "      <td>Accessories</td>\n",
       "      <td>15</td>\n",
       "      <td>20</td>\n",
       "      <td>2023-01-06</td>\n",
       "      <td>1</td>\n",
       "    </tr>\n",
       "    <tr>\n",
       "      <th>6</th>\n",
       "      <td>7</td>\n",
       "      <td>107</td>\n",
       "      <td>Headphones</td>\n",
       "      <td>Accessories</td>\n",
       "      <td>8</td>\n",
       "      <td>100</td>\n",
       "      <td>2023-01-07</td>\n",
       "      <td>1</td>\n",
       "    </tr>\n",
       "    <tr>\n",
       "      <th>7</th>\n",
       "      <td>8</td>\n",
       "      <td>108</td>\n",
       "      <td>Printer</td>\n",
       "      <td>Electronics</td>\n",
       "      <td>2</td>\n",
       "      <td>200</td>\n",
       "      <td>2023-01-08</td>\n",
       "      <td>1</td>\n",
       "    </tr>\n",
       "    <tr>\n",
       "      <th>8</th>\n",
       "      <td>9</td>\n",
       "      <td>109</td>\n",
       "      <td>Camera</td>\n",
       "      <td>Electronics</td>\n",
       "      <td>1</td>\n",
       "      <td>500</td>\n",
       "      <td>2023-01-09</td>\n",
       "      <td>1</td>\n",
       "    </tr>\n",
       "    <tr>\n",
       "      <th>9</th>\n",
       "      <td>10</td>\n",
       "      <td>110</td>\n",
       "      <td>Router</td>\n",
       "      <td>Networking</td>\n",
       "      <td>4</td>\n",
       "      <td>150</td>\n",
       "      <td>2023-01-10</td>\n",
       "      <td>1</td>\n",
       "    </tr>\n",
       "  </tbody>\n",
       "</table>\n",
       "</div>"
      ],
      "text/plain": [
       "   TransactionID  CustomerID     Product     Category  Quantity  UnitPrice  \\\n",
       "0              1         101      Laptop  Electronics         2       1000   \n",
       "1              2         102  Smartphone  Electronics         3        800   \n",
       "2              3         103      Tablet  Electronics         1        400   \n",
       "3              4         104     Monitor  Electronics         5        300   \n",
       "4              5         105    Keyboard  Accessories        10         50   \n",
       "5              6         106       Mouse  Accessories        15         20   \n",
       "6              7         107  Headphones  Accessories         8        100   \n",
       "7              8         108     Printer  Electronics         2        200   \n",
       "8              9         109      Camera  Electronics         1        500   \n",
       "9             10         110      Router   Networking         4        150   \n",
       "\n",
       "  TransactionDate  Month  \n",
       "0      2023-01-01      1  \n",
       "1      2023-01-02      1  \n",
       "2      2023-01-03      1  \n",
       "3      2023-01-04      1  \n",
       "4      2023-01-05      1  \n",
       "5      2023-01-06      1  \n",
       "6      2023-01-07      1  \n",
       "7      2023-01-08      1  \n",
       "8      2023-01-09      1  \n",
       "9      2023-01-10      1  "
      ]
     },
     "execution_count": 95,
     "metadata": {},
     "output_type": "execute_result"
    }
   ],
   "source": [
    "df['UnitPrice'].fillna(df['UnitPrice'].mean(), inplace=True)\n",
    "df"
   ]
  },
  {
   "cell_type": "code",
   "execution_count": 97,
   "id": "de1b1367-fda8-4782-9668-e6956aa87022",
   "metadata": {},
   "outputs": [
    {
     "data": {
      "text/html": [
       "<div>\n",
       "<style scoped>\n",
       "    .dataframe tbody tr th:only-of-type {\n",
       "        vertical-align: middle;\n",
       "    }\n",
       "\n",
       "    .dataframe tbody tr th {\n",
       "        vertical-align: top;\n",
       "    }\n",
       "\n",
       "    .dataframe thead th {\n",
       "        text-align: right;\n",
       "    }\n",
       "</style>\n",
       "<table border=\"1\" class=\"dataframe\">\n",
       "  <thead>\n",
       "    <tr style=\"text-align: right;\">\n",
       "      <th></th>\n",
       "      <th>TransactionID</th>\n",
       "      <th>CustomerID</th>\n",
       "      <th>Product</th>\n",
       "      <th>Category</th>\n",
       "      <th>Quantity</th>\n",
       "      <th>UnitPrice</th>\n",
       "      <th>TransactionDate</th>\n",
       "      <th>Month</th>\n",
       "    </tr>\n",
       "  </thead>\n",
       "  <tbody>\n",
       "    <tr>\n",
       "      <th>0</th>\n",
       "      <td>1</td>\n",
       "      <td>101</td>\n",
       "      <td>Laptop</td>\n",
       "      <td>Electronics</td>\n",
       "      <td>2</td>\n",
       "      <td>1000</td>\n",
       "      <td>2023-01-01</td>\n",
       "      <td>1</td>\n",
       "    </tr>\n",
       "    <tr>\n",
       "      <th>1</th>\n",
       "      <td>2</td>\n",
       "      <td>102</td>\n",
       "      <td>Smartphone</td>\n",
       "      <td>Electronics</td>\n",
       "      <td>3</td>\n",
       "      <td>800</td>\n",
       "      <td>2023-01-02</td>\n",
       "      <td>1</td>\n",
       "    </tr>\n",
       "    <tr>\n",
       "      <th>2</th>\n",
       "      <td>3</td>\n",
       "      <td>103</td>\n",
       "      <td>Tablet</td>\n",
       "      <td>Electronics</td>\n",
       "      <td>1</td>\n",
       "      <td>400</td>\n",
       "      <td>2023-01-03</td>\n",
       "      <td>1</td>\n",
       "    </tr>\n",
       "    <tr>\n",
       "      <th>3</th>\n",
       "      <td>4</td>\n",
       "      <td>104</td>\n",
       "      <td>Monitor</td>\n",
       "      <td>Electronics</td>\n",
       "      <td>5</td>\n",
       "      <td>300</td>\n",
       "      <td>2023-01-04</td>\n",
       "      <td>1</td>\n",
       "    </tr>\n",
       "    <tr>\n",
       "      <th>4</th>\n",
       "      <td>5</td>\n",
       "      <td>105</td>\n",
       "      <td>Keyboard</td>\n",
       "      <td>Accessories</td>\n",
       "      <td>10</td>\n",
       "      <td>50</td>\n",
       "      <td>2023-01-05</td>\n",
       "      <td>1</td>\n",
       "    </tr>\n",
       "    <tr>\n",
       "      <th>5</th>\n",
       "      <td>6</td>\n",
       "      <td>106</td>\n",
       "      <td>Mouse</td>\n",
       "      <td>Accessories</td>\n",
       "      <td>15</td>\n",
       "      <td>20</td>\n",
       "      <td>2023-01-06</td>\n",
       "      <td>1</td>\n",
       "    </tr>\n",
       "    <tr>\n",
       "      <th>6</th>\n",
       "      <td>7</td>\n",
       "      <td>107</td>\n",
       "      <td>Headphones</td>\n",
       "      <td>Accessories</td>\n",
       "      <td>8</td>\n",
       "      <td>100</td>\n",
       "      <td>2023-01-07</td>\n",
       "      <td>1</td>\n",
       "    </tr>\n",
       "    <tr>\n",
       "      <th>7</th>\n",
       "      <td>8</td>\n",
       "      <td>108</td>\n",
       "      <td>Printer</td>\n",
       "      <td>Electronics</td>\n",
       "      <td>2</td>\n",
       "      <td>200</td>\n",
       "      <td>2023-01-08</td>\n",
       "      <td>1</td>\n",
       "    </tr>\n",
       "    <tr>\n",
       "      <th>8</th>\n",
       "      <td>9</td>\n",
       "      <td>109</td>\n",
       "      <td>Camera</td>\n",
       "      <td>Electronics</td>\n",
       "      <td>1</td>\n",
       "      <td>500</td>\n",
       "      <td>2023-01-09</td>\n",
       "      <td>1</td>\n",
       "    </tr>\n",
       "    <tr>\n",
       "      <th>9</th>\n",
       "      <td>10</td>\n",
       "      <td>110</td>\n",
       "      <td>Router</td>\n",
       "      <td>Networking</td>\n",
       "      <td>4</td>\n",
       "      <td>150</td>\n",
       "      <td>2023-01-10</td>\n",
       "      <td>1</td>\n",
       "    </tr>\n",
       "  </tbody>\n",
       "</table>\n",
       "</div>"
      ],
      "text/plain": [
       "   TransactionID  CustomerID     Product     Category  Quantity  UnitPrice  \\\n",
       "0              1         101      Laptop  Electronics         2       1000   \n",
       "1              2         102  Smartphone  Electronics         3        800   \n",
       "2              3         103      Tablet  Electronics         1        400   \n",
       "3              4         104     Monitor  Electronics         5        300   \n",
       "4              5         105    Keyboard  Accessories        10         50   \n",
       "5              6         106       Mouse  Accessories        15         20   \n",
       "6              7         107  Headphones  Accessories         8        100   \n",
       "7              8         108     Printer  Electronics         2        200   \n",
       "8              9         109      Camera  Electronics         1        500   \n",
       "9             10         110      Router   Networking         4        150   \n",
       "\n",
       "  TransactionDate  Month  \n",
       "0      2023-01-01      1  \n",
       "1      2023-01-02      1  \n",
       "2      2023-01-03      1  \n",
       "3      2023-01-04      1  \n",
       "4      2023-01-05      1  \n",
       "5      2023-01-06      1  \n",
       "6      2023-01-07      1  \n",
       "7      2023-01-08      1  \n",
       "8      2023-01-09      1  \n",
       "9      2023-01-10      1  "
      ]
     },
     "execution_count": 97,
     "metadata": {},
     "output_type": "execute_result"
    }
   ],
   "source": [
    "df['Product'].fillna(df['Product'].mode()[0], inplace=True)\n",
    "df"
   ]
  },
  {
   "cell_type": "code",
   "execution_count": 99,
   "id": "1bea3db5-cc36-4164-984b-b6d5639330d3",
   "metadata": {},
   "outputs": [
    {
     "data": {
      "text/html": [
       "<div>\n",
       "<style scoped>\n",
       "    .dataframe tbody tr th:only-of-type {\n",
       "        vertical-align: middle;\n",
       "    }\n",
       "\n",
       "    .dataframe tbody tr th {\n",
       "        vertical-align: top;\n",
       "    }\n",
       "\n",
       "    .dataframe thead th {\n",
       "        text-align: right;\n",
       "    }\n",
       "</style>\n",
       "<table border=\"1\" class=\"dataframe\">\n",
       "  <thead>\n",
       "    <tr style=\"text-align: right;\">\n",
       "      <th></th>\n",
       "      <th>TransactionID</th>\n",
       "      <th>CustomerID</th>\n",
       "      <th>Product</th>\n",
       "      <th>Category</th>\n",
       "      <th>Quantity</th>\n",
       "      <th>UnitPrice</th>\n",
       "      <th>TransactionDate</th>\n",
       "      <th>Month</th>\n",
       "    </tr>\n",
       "  </thead>\n",
       "  <tbody>\n",
       "    <tr>\n",
       "      <th>0</th>\n",
       "      <td>1</td>\n",
       "      <td>101</td>\n",
       "      <td>Laptop</td>\n",
       "      <td>Electronics</td>\n",
       "      <td>2</td>\n",
       "      <td>1000</td>\n",
       "      <td>2023-01-01</td>\n",
       "      <td>1</td>\n",
       "    </tr>\n",
       "    <tr>\n",
       "      <th>1</th>\n",
       "      <td>2</td>\n",
       "      <td>102</td>\n",
       "      <td>Smartphone</td>\n",
       "      <td>Electronics</td>\n",
       "      <td>3</td>\n",
       "      <td>800</td>\n",
       "      <td>2023-01-02</td>\n",
       "      <td>1</td>\n",
       "    </tr>\n",
       "    <tr>\n",
       "      <th>2</th>\n",
       "      <td>3</td>\n",
       "      <td>103</td>\n",
       "      <td>Tablet</td>\n",
       "      <td>Electronics</td>\n",
       "      <td>1</td>\n",
       "      <td>400</td>\n",
       "      <td>2023-01-03</td>\n",
       "      <td>1</td>\n",
       "    </tr>\n",
       "    <tr>\n",
       "      <th>3</th>\n",
       "      <td>4</td>\n",
       "      <td>104</td>\n",
       "      <td>Monitor</td>\n",
       "      <td>Electronics</td>\n",
       "      <td>5</td>\n",
       "      <td>300</td>\n",
       "      <td>2023-01-04</td>\n",
       "      <td>1</td>\n",
       "    </tr>\n",
       "    <tr>\n",
       "      <th>4</th>\n",
       "      <td>5</td>\n",
       "      <td>105</td>\n",
       "      <td>Keyboard</td>\n",
       "      <td>Accessories</td>\n",
       "      <td>10</td>\n",
       "      <td>50</td>\n",
       "      <td>2023-01-05</td>\n",
       "      <td>1</td>\n",
       "    </tr>\n",
       "    <tr>\n",
       "      <th>5</th>\n",
       "      <td>6</td>\n",
       "      <td>106</td>\n",
       "      <td>Mouse</td>\n",
       "      <td>Accessories</td>\n",
       "      <td>15</td>\n",
       "      <td>20</td>\n",
       "      <td>2023-01-06</td>\n",
       "      <td>1</td>\n",
       "    </tr>\n",
       "    <tr>\n",
       "      <th>6</th>\n",
       "      <td>7</td>\n",
       "      <td>107</td>\n",
       "      <td>Headphones</td>\n",
       "      <td>Accessories</td>\n",
       "      <td>8</td>\n",
       "      <td>100</td>\n",
       "      <td>2023-01-07</td>\n",
       "      <td>1</td>\n",
       "    </tr>\n",
       "    <tr>\n",
       "      <th>7</th>\n",
       "      <td>8</td>\n",
       "      <td>108</td>\n",
       "      <td>Printer</td>\n",
       "      <td>Electronics</td>\n",
       "      <td>2</td>\n",
       "      <td>200</td>\n",
       "      <td>2023-01-08</td>\n",
       "      <td>1</td>\n",
       "    </tr>\n",
       "    <tr>\n",
       "      <th>8</th>\n",
       "      <td>9</td>\n",
       "      <td>109</td>\n",
       "      <td>Camera</td>\n",
       "      <td>Electronics</td>\n",
       "      <td>1</td>\n",
       "      <td>500</td>\n",
       "      <td>2023-01-09</td>\n",
       "      <td>1</td>\n",
       "    </tr>\n",
       "    <tr>\n",
       "      <th>9</th>\n",
       "      <td>10</td>\n",
       "      <td>110</td>\n",
       "      <td>Router</td>\n",
       "      <td>Networking</td>\n",
       "      <td>4</td>\n",
       "      <td>150</td>\n",
       "      <td>2023-01-10</td>\n",
       "      <td>1</td>\n",
       "    </tr>\n",
       "  </tbody>\n",
       "</table>\n",
       "</div>"
      ],
      "text/plain": [
       "   TransactionID  CustomerID     Product     Category  Quantity  UnitPrice  \\\n",
       "0              1         101      Laptop  Electronics         2       1000   \n",
       "1              2         102  Smartphone  Electronics         3        800   \n",
       "2              3         103      Tablet  Electronics         1        400   \n",
       "3              4         104     Monitor  Electronics         5        300   \n",
       "4              5         105    Keyboard  Accessories        10         50   \n",
       "5              6         106       Mouse  Accessories        15         20   \n",
       "6              7         107  Headphones  Accessories         8        100   \n",
       "7              8         108     Printer  Electronics         2        200   \n",
       "8              9         109      Camera  Electronics         1        500   \n",
       "9             10         110      Router   Networking         4        150   \n",
       "\n",
       "  TransactionDate  Month  \n",
       "0      2023-01-01      1  \n",
       "1      2023-01-02      1  \n",
       "2      2023-01-03      1  \n",
       "3      2023-01-04      1  \n",
       "4      2023-01-05      1  \n",
       "5      2023-01-06      1  \n",
       "6      2023-01-07      1  \n",
       "7      2023-01-08      1  \n",
       "8      2023-01-09      1  \n",
       "9      2023-01-10      1  "
      ]
     },
     "execution_count": 99,
     "metadata": {},
     "output_type": "execute_result"
    }
   ],
   "source": [
    "df['Category'].fillna(df['Category'].mode()[0], inplace=True)\n",
    "df"
   ]
  },
  {
   "cell_type": "markdown",
   "id": "44fe3dfb-e106-4ebf-9e3d-3d6b579211e6",
   "metadata": {},
   "source": [
    "# Done"
   ]
  },
  {
   "cell_type": "raw",
   "id": "284322c9-1642-499f-a847-83ed5fdf7c67",
   "metadata": {},
   "source": [
    "(b) Data Aggregation and Grouping (10 Marks)\n",
    "\n",
    "Calculate the total revenue for each product (Quantity * UnitPrice). (3 Marks)\n",
    "Identify the top 5 products by total revenue. (4 Marks)\n",
    "Group the data by 'Category' and calculate the total quantity sold for each category. (3 Marks)"
   ]
  },
  {
   "cell_type": "code",
   "execution_count": 135,
   "id": "280fb7aa-60fd-42c3-89a0-b07a9fa33d48",
   "metadata": {},
   "outputs": [
    {
     "data": {
      "text/html": [
       "<div>\n",
       "<style scoped>\n",
       "    .dataframe tbody tr th:only-of-type {\n",
       "        vertical-align: middle;\n",
       "    }\n",
       "\n",
       "    .dataframe tbody tr th {\n",
       "        vertical-align: top;\n",
       "    }\n",
       "\n",
       "    .dataframe thead th {\n",
       "        text-align: right;\n",
       "    }\n",
       "</style>\n",
       "<table border=\"1\" class=\"dataframe\">\n",
       "  <thead>\n",
       "    <tr style=\"text-align: right;\">\n",
       "      <th></th>\n",
       "      <th>TransactionID</th>\n",
       "      <th>CustomerID</th>\n",
       "      <th>Product</th>\n",
       "      <th>Category</th>\n",
       "      <th>Quantity</th>\n",
       "      <th>UnitPrice</th>\n",
       "      <th>TransactionDate</th>\n",
       "      <th>Month</th>\n",
       "      <th>Revenue</th>\n",
       "    </tr>\n",
       "  </thead>\n",
       "  <tbody>\n",
       "    <tr>\n",
       "      <th>0</th>\n",
       "      <td>1</td>\n",
       "      <td>101</td>\n",
       "      <td>Laptop</td>\n",
       "      <td>Electronics</td>\n",
       "      <td>2</td>\n",
       "      <td>1000</td>\n",
       "      <td>2023-01-01</td>\n",
       "      <td>1</td>\n",
       "      <td>2000</td>\n",
       "    </tr>\n",
       "    <tr>\n",
       "      <th>1</th>\n",
       "      <td>2</td>\n",
       "      <td>102</td>\n",
       "      <td>Smartphone</td>\n",
       "      <td>Electronics</td>\n",
       "      <td>3</td>\n",
       "      <td>800</td>\n",
       "      <td>2023-01-02</td>\n",
       "      <td>1</td>\n",
       "      <td>2400</td>\n",
       "    </tr>\n",
       "    <tr>\n",
       "      <th>2</th>\n",
       "      <td>3</td>\n",
       "      <td>103</td>\n",
       "      <td>Tablet</td>\n",
       "      <td>Electronics</td>\n",
       "      <td>1</td>\n",
       "      <td>400</td>\n",
       "      <td>2023-01-03</td>\n",
       "      <td>1</td>\n",
       "      <td>400</td>\n",
       "    </tr>\n",
       "    <tr>\n",
       "      <th>3</th>\n",
       "      <td>4</td>\n",
       "      <td>104</td>\n",
       "      <td>Monitor</td>\n",
       "      <td>Electronics</td>\n",
       "      <td>5</td>\n",
       "      <td>300</td>\n",
       "      <td>2023-01-04</td>\n",
       "      <td>1</td>\n",
       "      <td>1500</td>\n",
       "    </tr>\n",
       "    <tr>\n",
       "      <th>4</th>\n",
       "      <td>5</td>\n",
       "      <td>105</td>\n",
       "      <td>Keyboard</td>\n",
       "      <td>Accessories</td>\n",
       "      <td>10</td>\n",
       "      <td>50</td>\n",
       "      <td>2023-01-05</td>\n",
       "      <td>1</td>\n",
       "      <td>500</td>\n",
       "    </tr>\n",
       "    <tr>\n",
       "      <th>5</th>\n",
       "      <td>6</td>\n",
       "      <td>106</td>\n",
       "      <td>Mouse</td>\n",
       "      <td>Accessories</td>\n",
       "      <td>15</td>\n",
       "      <td>20</td>\n",
       "      <td>2023-01-06</td>\n",
       "      <td>1</td>\n",
       "      <td>300</td>\n",
       "    </tr>\n",
       "    <tr>\n",
       "      <th>6</th>\n",
       "      <td>7</td>\n",
       "      <td>107</td>\n",
       "      <td>Headphones</td>\n",
       "      <td>Accessories</td>\n",
       "      <td>8</td>\n",
       "      <td>100</td>\n",
       "      <td>2023-01-07</td>\n",
       "      <td>1</td>\n",
       "      <td>800</td>\n",
       "    </tr>\n",
       "    <tr>\n",
       "      <th>7</th>\n",
       "      <td>8</td>\n",
       "      <td>108</td>\n",
       "      <td>Printer</td>\n",
       "      <td>Electronics</td>\n",
       "      <td>2</td>\n",
       "      <td>200</td>\n",
       "      <td>2023-01-08</td>\n",
       "      <td>1</td>\n",
       "      <td>400</td>\n",
       "    </tr>\n",
       "    <tr>\n",
       "      <th>8</th>\n",
       "      <td>9</td>\n",
       "      <td>109</td>\n",
       "      <td>Camera</td>\n",
       "      <td>Electronics</td>\n",
       "      <td>1</td>\n",
       "      <td>500</td>\n",
       "      <td>2023-01-09</td>\n",
       "      <td>1</td>\n",
       "      <td>500</td>\n",
       "    </tr>\n",
       "    <tr>\n",
       "      <th>9</th>\n",
       "      <td>10</td>\n",
       "      <td>110</td>\n",
       "      <td>Router</td>\n",
       "      <td>Networking</td>\n",
       "      <td>4</td>\n",
       "      <td>150</td>\n",
       "      <td>2023-01-10</td>\n",
       "      <td>1</td>\n",
       "      <td>600</td>\n",
       "    </tr>\n",
       "  </tbody>\n",
       "</table>\n",
       "</div>"
      ],
      "text/plain": [
       "   TransactionID  CustomerID     Product     Category  Quantity  UnitPrice  \\\n",
       "0              1         101      Laptop  Electronics         2       1000   \n",
       "1              2         102  Smartphone  Electronics         3        800   \n",
       "2              3         103      Tablet  Electronics         1        400   \n",
       "3              4         104     Monitor  Electronics         5        300   \n",
       "4              5         105    Keyboard  Accessories        10         50   \n",
       "5              6         106       Mouse  Accessories        15         20   \n",
       "6              7         107  Headphones  Accessories         8        100   \n",
       "7              8         108     Printer  Electronics         2        200   \n",
       "8              9         109      Camera  Electronics         1        500   \n",
       "9             10         110      Router   Networking         4        150   \n",
       "\n",
       "  TransactionDate  Month  Revenue  \n",
       "0      2023-01-01      1     2000  \n",
       "1      2023-01-02      1     2400  \n",
       "2      2023-01-03      1      400  \n",
       "3      2023-01-04      1     1500  \n",
       "4      2023-01-05      1      500  \n",
       "5      2023-01-06      1      300  \n",
       "6      2023-01-07      1      800  \n",
       "7      2023-01-08      1      400  \n",
       "8      2023-01-09      1      500  \n",
       "9      2023-01-10      1      600  "
      ]
     },
     "execution_count": 135,
     "metadata": {},
     "output_type": "execute_result"
    }
   ],
   "source": [
    "import pandas as pd\n",
    "\n",
    "df['Revenue'] = df['Quantity'] * df['UnitPrice']\n",
    "df"
   ]
  },
  {
   "cell_type": "code",
   "execution_count": 137,
   "id": "4516e937-9ab9-4707-b8fa-26f6cb37daed",
   "metadata": {},
   "outputs": [
    {
     "data": {
      "text/html": [
       "<div>\n",
       "<style scoped>\n",
       "    .dataframe tbody tr th:only-of-type {\n",
       "        vertical-align: middle;\n",
       "    }\n",
       "\n",
       "    .dataframe tbody tr th {\n",
       "        vertical-align: top;\n",
       "    }\n",
       "\n",
       "    .dataframe thead th {\n",
       "        text-align: right;\n",
       "    }\n",
       "</style>\n",
       "<table border=\"1\" class=\"dataframe\">\n",
       "  <thead>\n",
       "    <tr style=\"text-align: right;\">\n",
       "      <th></th>\n",
       "      <th>Product</th>\n",
       "      <th>Revenue</th>\n",
       "    </tr>\n",
       "  </thead>\n",
       "  <tbody>\n",
       "    <tr>\n",
       "      <th>0</th>\n",
       "      <td>Camera</td>\n",
       "      <td>500</td>\n",
       "    </tr>\n",
       "    <tr>\n",
       "      <th>1</th>\n",
       "      <td>Headphones</td>\n",
       "      <td>800</td>\n",
       "    </tr>\n",
       "    <tr>\n",
       "      <th>2</th>\n",
       "      <td>Keyboard</td>\n",
       "      <td>500</td>\n",
       "    </tr>\n",
       "    <tr>\n",
       "      <th>3</th>\n",
       "      <td>Laptop</td>\n",
       "      <td>2000</td>\n",
       "    </tr>\n",
       "    <tr>\n",
       "      <th>4</th>\n",
       "      <td>Monitor</td>\n",
       "      <td>1500</td>\n",
       "    </tr>\n",
       "    <tr>\n",
       "      <th>5</th>\n",
       "      <td>Mouse</td>\n",
       "      <td>300</td>\n",
       "    </tr>\n",
       "    <tr>\n",
       "      <th>6</th>\n",
       "      <td>Printer</td>\n",
       "      <td>400</td>\n",
       "    </tr>\n",
       "    <tr>\n",
       "      <th>7</th>\n",
       "      <td>Router</td>\n",
       "      <td>600</td>\n",
       "    </tr>\n",
       "    <tr>\n",
       "      <th>8</th>\n",
       "      <td>Smartphone</td>\n",
       "      <td>2400</td>\n",
       "    </tr>\n",
       "    <tr>\n",
       "      <th>9</th>\n",
       "      <td>Tablet</td>\n",
       "      <td>400</td>\n",
       "    </tr>\n",
       "  </tbody>\n",
       "</table>\n",
       "</div>"
      ],
      "text/plain": [
       "      Product  Revenue\n",
       "0      Camera      500\n",
       "1  Headphones      800\n",
       "2    Keyboard      500\n",
       "3      Laptop     2000\n",
       "4     Monitor     1500\n",
       "5       Mouse      300\n",
       "6     Printer      400\n",
       "7      Router      600\n",
       "8  Smartphone     2400\n",
       "9      Tablet      400"
      ]
     },
     "execution_count": 137,
     "metadata": {},
     "output_type": "execute_result"
    }
   ],
   "source": [
    "total_revenue_per_product = df.groupby('Product')['Revenue'].sum().reset_index()\n",
    "total_revenue_per_product"
   ]
  },
  {
   "cell_type": "code",
   "execution_count": 139,
   "id": "eba4b27b-b557-4b28-82ab-5a04a01ace84",
   "metadata": {},
   "outputs": [
    {
     "data": {
      "text/html": [
       "<div>\n",
       "<style scoped>\n",
       "    .dataframe tbody tr th:only-of-type {\n",
       "        vertical-align: middle;\n",
       "    }\n",
       "\n",
       "    .dataframe tbody tr th {\n",
       "        vertical-align: top;\n",
       "    }\n",
       "\n",
       "    .dataframe thead th {\n",
       "        text-align: right;\n",
       "    }\n",
       "</style>\n",
       "<table border=\"1\" class=\"dataframe\">\n",
       "  <thead>\n",
       "    <tr style=\"text-align: right;\">\n",
       "      <th></th>\n",
       "      <th>Product</th>\n",
       "      <th>Revenue</th>\n",
       "    </tr>\n",
       "  </thead>\n",
       "  <tbody>\n",
       "    <tr>\n",
       "      <th>8</th>\n",
       "      <td>Smartphone</td>\n",
       "      <td>2400</td>\n",
       "    </tr>\n",
       "    <tr>\n",
       "      <th>3</th>\n",
       "      <td>Laptop</td>\n",
       "      <td>2000</td>\n",
       "    </tr>\n",
       "    <tr>\n",
       "      <th>4</th>\n",
       "      <td>Monitor</td>\n",
       "      <td>1500</td>\n",
       "    </tr>\n",
       "    <tr>\n",
       "      <th>1</th>\n",
       "      <td>Headphones</td>\n",
       "      <td>800</td>\n",
       "    </tr>\n",
       "    <tr>\n",
       "      <th>7</th>\n",
       "      <td>Router</td>\n",
       "      <td>600</td>\n",
       "    </tr>\n",
       "  </tbody>\n",
       "</table>\n",
       "</div>"
      ],
      "text/plain": [
       "      Product  Revenue\n",
       "8  Smartphone     2400\n",
       "3      Laptop     2000\n",
       "4     Monitor     1500\n",
       "1  Headphones      800\n",
       "7      Router      600"
      ]
     },
     "execution_count": 139,
     "metadata": {},
     "output_type": "execute_result"
    }
   ],
   "source": [
    "top_5_products = total_revenue_per_product.sort_values(by='Revenue', ascending=False).head(5)\n",
    "top_5_products"
   ]
  },
  {
   "cell_type": "code",
   "execution_count": 141,
   "id": "ba921e48-03dd-4b53-94d6-b0c96f9d8ba0",
   "metadata": {},
   "outputs": [
    {
     "data": {
      "text/html": [
       "<div>\n",
       "<style scoped>\n",
       "    .dataframe tbody tr th:only-of-type {\n",
       "        vertical-align: middle;\n",
       "    }\n",
       "\n",
       "    .dataframe tbody tr th {\n",
       "        vertical-align: top;\n",
       "    }\n",
       "\n",
       "    .dataframe thead th {\n",
       "        text-align: right;\n",
       "    }\n",
       "</style>\n",
       "<table border=\"1\" class=\"dataframe\">\n",
       "  <thead>\n",
       "    <tr style=\"text-align: right;\">\n",
       "      <th></th>\n",
       "      <th>Category</th>\n",
       "      <th>Quantity</th>\n",
       "    </tr>\n",
       "  </thead>\n",
       "  <tbody>\n",
       "    <tr>\n",
       "      <th>0</th>\n",
       "      <td>Accessories</td>\n",
       "      <td>33</td>\n",
       "    </tr>\n",
       "    <tr>\n",
       "      <th>1</th>\n",
       "      <td>Electronics</td>\n",
       "      <td>14</td>\n",
       "    </tr>\n",
       "    <tr>\n",
       "      <th>2</th>\n",
       "      <td>Networking</td>\n",
       "      <td>4</td>\n",
       "    </tr>\n",
       "  </tbody>\n",
       "</table>\n",
       "</div>"
      ],
      "text/plain": [
       "      Category  Quantity\n",
       "0  Accessories        33\n",
       "1  Electronics        14\n",
       "2   Networking         4"
      ]
     },
     "execution_count": 141,
     "metadata": {},
     "output_type": "execute_result"
    }
   ],
   "source": [
    "total_quantity_per_category = df.groupby('Category')['Quantity'].sum().reset_index()\n",
    "total_quantity_per_category"
   ]
  },
  {
   "cell_type": "markdown",
   "id": "9add80a5-4103-41cd-8166-9139e73976c8",
   "metadata": {},
   "source": [
    "# Done"
   ]
  },
  {
   "cell_type": "code",
   "execution_count": null,
   "id": "bb5827fe-15ed-4060-bbec-defd2f541138",
   "metadata": {},
   "outputs": [],
   "source": []
  },
  {
   "cell_type": "raw",
   "id": "99c514d7-8533-4612-8210-155774c5af03",
   "metadata": {},
   "source": [
    "(c) Data Visualization (5 Marks)\n",
    "Using Matplotlib or Seaborn, create a bar chart showing the total revenue for the top 5 products identified in part (b).\n",
    "Include appropriate labels, title, and color customization."
   ]
  },
  {
   "cell_type": "code",
   "execution_count": 245,
   "id": "25d76054-201e-43dc-8253-79eba3f78e21",
   "metadata": {},
   "outputs": [
    {
     "data": {
      "text/html": [
       "<div>\n",
       "<style scoped>\n",
       "    .dataframe tbody tr th:only-of-type {\n",
       "        vertical-align: middle;\n",
       "    }\n",
       "\n",
       "    .dataframe tbody tr th {\n",
       "        vertical-align: top;\n",
       "    }\n",
       "\n",
       "    .dataframe thead th {\n",
       "        text-align: right;\n",
       "    }\n",
       "</style>\n",
       "<table border=\"1\" class=\"dataframe\">\n",
       "  <thead>\n",
       "    <tr style=\"text-align: right;\">\n",
       "      <th></th>\n",
       "      <th>Product</th>\n",
       "      <th>Revenue</th>\n",
       "    </tr>\n",
       "  </thead>\n",
       "  <tbody>\n",
       "    <tr>\n",
       "      <th>8</th>\n",
       "      <td>Smartphone</td>\n",
       "      <td>2400</td>\n",
       "    </tr>\n",
       "    <tr>\n",
       "      <th>3</th>\n",
       "      <td>Laptop</td>\n",
       "      <td>2000</td>\n",
       "    </tr>\n",
       "    <tr>\n",
       "      <th>4</th>\n",
       "      <td>Monitor</td>\n",
       "      <td>1500</td>\n",
       "    </tr>\n",
       "    <tr>\n",
       "      <th>1</th>\n",
       "      <td>Headphones</td>\n",
       "      <td>800</td>\n",
       "    </tr>\n",
       "    <tr>\n",
       "      <th>7</th>\n",
       "      <td>Router</td>\n",
       "      <td>600</td>\n",
       "    </tr>\n",
       "  </tbody>\n",
       "</table>\n",
       "</div>"
      ],
      "text/plain": [
       "      Product  Revenue\n",
       "8  Smartphone     2400\n",
       "3      Laptop     2000\n",
       "4     Monitor     1500\n",
       "1  Headphones      800\n",
       "7      Router      600"
      ]
     },
     "execution_count": 245,
     "metadata": {},
     "output_type": "execute_result"
    }
   ],
   "source": [
    "top_5_products"
   ]
  },
  {
   "cell_type": "code",
   "execution_count": 247,
   "id": "0cddce5a-0574-4d96-ad94-b09ba2634c22",
   "metadata": {},
   "outputs": [
    {
     "data": {
      "text/plain": [
       "8    Smartphone\n",
       "3        Laptop\n",
       "4       Monitor\n",
       "1    Headphones\n",
       "7        Router\n",
       "Name: Product, dtype: object"
      ]
     },
     "execution_count": 247,
     "metadata": {},
     "output_type": "execute_result"
    }
   ],
   "source": [
    "products = top_5_products['Product']\n",
    "products"
   ]
  },
  {
   "cell_type": "code",
   "execution_count": 249,
   "id": "3d754b49-5def-44e2-b853-81ac6be1635a",
   "metadata": {},
   "outputs": [
    {
     "data": {
      "text/plain": [
       "pandas.core.series.Series"
      ]
     },
     "execution_count": 249,
     "metadata": {},
     "output_type": "execute_result"
    }
   ],
   "source": [
    "type(products)"
   ]
  },
  {
   "cell_type": "code",
   "execution_count": 251,
   "id": "a99ff140-828b-40b8-81c8-ff9f5c888bd5",
   "metadata": {},
   "outputs": [
    {
     "data": {
      "text/plain": [
       "8    2400\n",
       "3    2000\n",
       "4    1500\n",
       "1     800\n",
       "7     600\n",
       "Name: Revenue, dtype: int64"
      ]
     },
     "execution_count": 251,
     "metadata": {},
     "output_type": "execute_result"
    }
   ],
   "source": [
    "revenues = top_5_products['Revenue']\n",
    "revenues"
   ]
  },
  {
   "cell_type": "code",
   "execution_count": 253,
   "id": "1e9ea287-606c-4aba-be41-8f694ca3d890",
   "metadata": {},
   "outputs": [
    {
     "data": {
      "text/plain": [
       "pandas.core.series.Series"
      ]
     },
     "execution_count": 253,
     "metadata": {},
     "output_type": "execute_result"
    }
   ],
   "source": [
    "type(revenues)"
   ]
  },
  {
   "cell_type": "code",
   "execution_count": 259,
   "id": "ae393f65-4d70-4f8d-b182-ec618fe2f9c1",
   "metadata": {},
   "outputs": [
    {
     "data": {
      "text/plain": [
       "Text(0.5, 1.0, 'Top 5 Products vs Total Revenue')"
      ]
     },
     "execution_count": 259,
     "metadata": {},
     "output_type": "execute_result"
    },
    {
     "data": {
      "image/png": "[encoded data removed]",
      "text/plain": [
       "<Figure size 800x600 with 1 Axes>"
      ]
     },
     "metadata": {},
     "output_type": "display_data"
    }
   ],
   "source": [
    "plt.figure(figsize=(8, 6)) \n",
    "plt.bar(products, revenues)\n",
    "plt.xlabel('Product')\n",
    "plt.ylabel('Total Revenue')\n",
    "plt.title('Top 5 Products vs Total Revenue')"
   ]
  },
  {
   "cell_type": "markdown",
   "id": "7a9d7255-22b2-4b44-a3fd-b2d9cc4c77f2",
   "metadata": {},
   "source": [
    "# Done"
   ]
  },
  {
   "cell_type": "raw",
   "id": "ade42a0b-162d-4ab7-8f6f-73b75f2a758b",
   "metadata": {},
   "source": [
    "Question 5: Data Visualization with Matplotlib and Seaborn (15 Marks)\n",
    "\n",
    "(a) Time Series Visualization (7 Marks)\n",
    "\n",
    "Using the transactions.csv DataFrame:\n",
    "Calculate the monthly total revenue.\n",
    "\n",
    "Plot a line chart showing the monthly total revenue over time.\n",
    "Customize the plot with labels for the x-axis (months), y-axis (total revenue), a title, and gridlines."
   ]
  },
  {
   "cell_type": "code",
   "execution_count": 176,
   "id": "a02ad77c-3051-4a82-a6da-b5f564e2b32b",
   "metadata": {},
   "outputs": [
    {
     "data": {
      "text/html": [
       "<div>\n",
       "<style scoped>\n",
       "    .dataframe tbody tr th:only-of-type {\n",
       "        vertical-align: middle;\n",
       "    }\n",
       "\n",
       "    .dataframe tbody tr th {\n",
       "        vertical-align: top;\n",
       "    }\n",
       "\n",
       "    .dataframe thead th {\n",
       "        text-align: right;\n",
       "    }\n",
       "</style>\n",
       "<table border=\"1\" class=\"dataframe\">\n",
       "  <thead>\n",
       "    <tr style=\"text-align: right;\">\n",
       "      <th></th>\n",
       "      <th>Month</th>\n",
       "      <th>Revenue</th>\n",
       "    </tr>\n",
       "  </thead>\n",
       "  <tbody>\n",
       "    <tr>\n",
       "      <th>0</th>\n",
       "      <td>1</td>\n",
       "      <td>9400</td>\n",
       "    </tr>\n",
       "  </tbody>\n",
       "</table>\n",
       "</div>"
      ],
      "text/plain": [
       "   Month  Revenue\n",
       "0      1     9400"
      ]
     },
     "execution_count": 176,
     "metadata": {},
     "output_type": "execute_result"
    }
   ],
   "source": [
    "import pandas as pd\n",
    "import matplotlib.pyplot as plt\n",
    "\n",
    "monthly_revenue = df.groupby('Month')['Revenue'].sum().reset_index()\n",
    "monthly_revenue"
   ]
  },
  {
   "cell_type": "code",
   "execution_count": 177,
   "id": "9b8fb7d1-4993-42b5-a6f4-536719c6f086",
   "metadata": {},
   "outputs": [
    {
     "data": {
      "image/png": "[encoded data removed]",
      "text/plain": [
       "<Figure size 1000x600 with 1 Axes>"
      ]
     },
     "metadata": {},
     "output_type": "display_data"
    }
   ],
   "source": [
    "plt.figure(figsize=(10, 6)) \n",
    "plt.plot(monthly_revenue['Month'], monthly_revenue['Revenue'], marker='o')\n",
    "\n",
    "plt.xlabel('Month')\n",
    "plt.ylabel('Total Revenue')\n",
    "plt.title('Month vs Total Revenue', fontsize=14)\n",
    "\n",
    "plt.grid(True)\n",
    "\n",
    "plt.show()"
   ]
  },
  {
   "cell_type": "markdown",
   "id": "ab52ec13-d9d0-4576-9b2c-6426f73b3243",
   "metadata": {},
   "source": [
    "# Done"
   ]
  },
  {
   "cell_type": "raw",
   "id": "0fe2b276-0f97-4892-8df0-9a3e0bade7fd",
   "metadata": {},
   "source": [
    "(b) Advanced Visualization (8 Marks)\n",
    "Use Seaborn to create a box plot of the unit prices for each product category.\n",
    "Interpret any notable differences in unit price distributions across categories."
   ]
  },
  {
   "cell_type": "code",
   "execution_count": 181,
   "id": "0c2a8996-cb2a-47c5-b576-9732b35fdf0e",
   "metadata": {},
   "outputs": [
    {
     "data": {
      "text/html": [
       "<div>\n",
       "<style scoped>\n",
       "    .dataframe tbody tr th:only-of-type {\n",
       "        vertical-align: middle;\n",
       "    }\n",
       "\n",
       "    .dataframe tbody tr th {\n",
       "        vertical-align: top;\n",
       "    }\n",
       "\n",
       "    .dataframe thead th {\n",
       "        text-align: right;\n",
       "    }\n",
       "</style>\n",
       "<table border=\"1\" class=\"dataframe\">\n",
       "  <thead>\n",
       "    <tr style=\"text-align: right;\">\n",
       "      <th></th>\n",
       "      <th>TransactionID</th>\n",
       "      <th>CustomerID</th>\n",
       "      <th>Product</th>\n",
       "      <th>Category</th>\n",
       "      <th>Quantity</th>\n",
       "      <th>UnitPrice</th>\n",
       "      <th>TransactionDate</th>\n",
       "      <th>Month</th>\n",
       "      <th>Revenue</th>\n",
       "    </tr>\n",
       "  </thead>\n",
       "  <tbody>\n",
       "    <tr>\n",
       "      <th>0</th>\n",
       "      <td>1</td>\n",
       "      <td>101</td>\n",
       "      <td>Laptop</td>\n",
       "      <td>Electronics</td>\n",
       "      <td>2</td>\n",
       "      <td>1000</td>\n",
       "      <td>2023-01-01</td>\n",
       "      <td>1</td>\n",
       "      <td>2000</td>\n",
       "    </tr>\n",
       "    <tr>\n",
       "      <th>1</th>\n",
       "      <td>2</td>\n",
       "      <td>102</td>\n",
       "      <td>Smartphone</td>\n",
       "      <td>Electronics</td>\n",
       "      <td>3</td>\n",
       "      <td>800</td>\n",
       "      <td>2023-01-02</td>\n",
       "      <td>1</td>\n",
       "      <td>2400</td>\n",
       "    </tr>\n",
       "    <tr>\n",
       "      <th>2</th>\n",
       "      <td>3</td>\n",
       "      <td>103</td>\n",
       "      <td>Tablet</td>\n",
       "      <td>Electronics</td>\n",
       "      <td>1</td>\n",
       "      <td>400</td>\n",
       "      <td>2023-01-03</td>\n",
       "      <td>1</td>\n",
       "      <td>400</td>\n",
       "    </tr>\n",
       "    <tr>\n",
       "      <th>3</th>\n",
       "      <td>4</td>\n",
       "      <td>104</td>\n",
       "      <td>Monitor</td>\n",
       "      <td>Electronics</td>\n",
       "      <td>5</td>\n",
       "      <td>300</td>\n",
       "      <td>2023-01-04</td>\n",
       "      <td>1</td>\n",
       "      <td>1500</td>\n",
       "    </tr>\n",
       "    <tr>\n",
       "      <th>4</th>\n",
       "      <td>5</td>\n",
       "      <td>105</td>\n",
       "      <td>Keyboard</td>\n",
       "      <td>Accessories</td>\n",
       "      <td>10</td>\n",
       "      <td>50</td>\n",
       "      <td>2023-01-05</td>\n",
       "      <td>1</td>\n",
       "      <td>500</td>\n",
       "    </tr>\n",
       "    <tr>\n",
       "      <th>5</th>\n",
       "      <td>6</td>\n",
       "      <td>106</td>\n",
       "      <td>Mouse</td>\n",
       "      <td>Accessories</td>\n",
       "      <td>15</td>\n",
       "      <td>20</td>\n",
       "      <td>2023-01-06</td>\n",
       "      <td>1</td>\n",
       "      <td>300</td>\n",
       "    </tr>\n",
       "    <tr>\n",
       "      <th>6</th>\n",
       "      <td>7</td>\n",
       "      <td>107</td>\n",
       "      <td>Headphones</td>\n",
       "      <td>Accessories</td>\n",
       "      <td>8</td>\n",
       "      <td>100</td>\n",
       "      <td>2023-01-07</td>\n",
       "      <td>1</td>\n",
       "      <td>800</td>\n",
       "    </tr>\n",
       "    <tr>\n",
       "      <th>7</th>\n",
       "      <td>8</td>\n",
       "      <td>108</td>\n",
       "      <td>Printer</td>\n",
       "      <td>Electronics</td>\n",
       "      <td>2</td>\n",
       "      <td>200</td>\n",
       "      <td>2023-01-08</td>\n",
       "      <td>1</td>\n",
       "      <td>400</td>\n",
       "    </tr>\n",
       "    <tr>\n",
       "      <th>8</th>\n",
       "      <td>9</td>\n",
       "      <td>109</td>\n",
       "      <td>Camera</td>\n",
       "      <td>Electronics</td>\n",
       "      <td>1</td>\n",
       "      <td>500</td>\n",
       "      <td>2023-01-09</td>\n",
       "      <td>1</td>\n",
       "      <td>500</td>\n",
       "    </tr>\n",
       "    <tr>\n",
       "      <th>9</th>\n",
       "      <td>10</td>\n",
       "      <td>110</td>\n",
       "      <td>Router</td>\n",
       "      <td>Networking</td>\n",
       "      <td>4</td>\n",
       "      <td>150</td>\n",
       "      <td>2023-01-10</td>\n",
       "      <td>1</td>\n",
       "      <td>600</td>\n",
       "    </tr>\n",
       "  </tbody>\n",
       "</table>\n",
       "</div>"
      ],
      "text/plain": [
       "   TransactionID  CustomerID     Product     Category  Quantity  UnitPrice  \\\n",
       "0              1         101      Laptop  Electronics         2       1000   \n",
       "1              2         102  Smartphone  Electronics         3        800   \n",
       "2              3         103      Tablet  Electronics         1        400   \n",
       "3              4         104     Monitor  Electronics         5        300   \n",
       "4              5         105    Keyboard  Accessories        10         50   \n",
       "5              6         106       Mouse  Accessories        15         20   \n",
       "6              7         107  Headphones  Accessories         8        100   \n",
       "7              8         108     Printer  Electronics         2        200   \n",
       "8              9         109      Camera  Electronics         1        500   \n",
       "9             10         110      Router   Networking         4        150   \n",
       "\n",
       "  TransactionDate  Month  Revenue  \n",
       "0      2023-01-01      1     2000  \n",
       "1      2023-01-02      1     2400  \n",
       "2      2023-01-03      1      400  \n",
       "3      2023-01-04      1     1500  \n",
       "4      2023-01-05      1      500  \n",
       "5      2023-01-06      1      300  \n",
       "6      2023-01-07      1      800  \n",
       "7      2023-01-08      1      400  \n",
       "8      2023-01-09      1      500  \n",
       "9      2023-01-10      1      600  "
      ]
     },
     "execution_count": 181,
     "metadata": {},
     "output_type": "execute_result"
    }
   ],
   "source": [
    "import seaborn as sns\n",
    "import matplotlib.pyplot as plt\n",
    "df"
   ]
  },
  {
   "cell_type": "code",
   "execution_count": 182,
   "id": "dd591dc7-6348-4af3-894b-fbcd2ec78b5a",
   "metadata": {},
   "outputs": [
    {
     "data": {
      "text/html": [
       "<div>\n",
       "<style scoped>\n",
       "    .dataframe tbody tr th:only-of-type {\n",
       "        vertical-align: middle;\n",
       "    }\n",
       "\n",
       "    .dataframe tbody tr th {\n",
       "        vertical-align: top;\n",
       "    }\n",
       "\n",
       "    .dataframe thead th {\n",
       "        text-align: right;\n",
       "    }\n",
       "</style>\n",
       "<table border=\"1\" class=\"dataframe\">\n",
       "  <thead>\n",
       "    <tr style=\"text-align: right;\">\n",
       "      <th></th>\n",
       "      <th>Category</th>\n",
       "      <th>UnitPrice</th>\n",
       "    </tr>\n",
       "  </thead>\n",
       "  <tbody>\n",
       "    <tr>\n",
       "      <th>0</th>\n",
       "      <td>Accessories</td>\n",
       "      <td>170</td>\n",
       "    </tr>\n",
       "    <tr>\n",
       "      <th>1</th>\n",
       "      <td>Electronics</td>\n",
       "      <td>3200</td>\n",
       "    </tr>\n",
       "    <tr>\n",
       "      <th>2</th>\n",
       "      <td>Networking</td>\n",
       "      <td>150</td>\n",
       "    </tr>\n",
       "  </tbody>\n",
       "</table>\n",
       "</div>"
      ],
      "text/plain": [
       "      Category  UnitPrice\n",
       "0  Accessories        170\n",
       "1  Electronics       3200\n",
       "2   Networking        150"
      ]
     },
     "execution_count": 182,
     "metadata": {},
     "output_type": "execute_result"
    }
   ],
   "source": [
    "total_quantity_per_category = df.groupby('Category')['UnitPrice'].sum().reset_index()\n",
    "total_quantity_per_category"
   ]
  },
  {
   "cell_type": "code",
   "execution_count": 183,
   "id": "84ee737f-ce6e-4a03-b184-8c0f5f1c208d",
   "metadata": {},
   "outputs": [
    {
     "data": {
      "image/png": "[encoded data removed]",
      "text/plain": [
       "<Figure size 1000x600 with 1 Axes>"
      ]
     },
     "metadata": {},
     "output_type": "display_data"
    }
   ],
   "source": [
    "plt.figure(figsize=(10, 6))\n",
    "sns.boxplot(x='Category', y='UnitPrice', data=df)\n",
    "\n",
    "plt.xlabel('Product Category')\n",
    "plt.ylabel('Unit Price')\n",
    "plt.title('Product Categories vs Unit Prices')\n",
    "\n",
    "plt.show()"
   ]
  },
  {
   "cell_type": "markdown",
   "id": "14ecaab6-7be8-40d7-a478-e6e7c80598a7",
   "metadata": {},
   "source": [
    "# Done"
   ]
  },
  {
   "cell_type": "raw",
   "id": "c98a305e-d504-4ab0-9b4e-8eb697e5828a",
   "metadata": {},
   "source": [
    "Question 6: Hands-On Project (15 Marks)\n",
    "You are given a dataset employee_attendance.csv containing the following columns:\n",
    "    'EmployeeID','Date', 'Status' (Present/Absent), 'Department'.\n",
    "\n",
    "Tasks:\n",
    "Load the dataset into a Pandas DataFrame and parse the 'Date' column as datetime. (3 Marks)\n",
    "Calculate the attendance percentage for each employee. (4 Marks)\n",
    "Identify the department with the highest average attendance. (4 Marks)\n",
    "Using Matplotlib, create a bar chart showing the top 5 employees with the highest attendancepercentages. Include labels and title. (4 Marks)"
   ]
  },
  {
   "cell_type": "code",
   "execution_count": 188,
   "id": "7c777553-72af-4243-962b-3645acfc7fab",
   "metadata": {},
   "outputs": [
    {
     "data": {
      "text/html": [
       "<div>\n",
       "<style scoped>\n",
       "    .dataframe tbody tr th:only-of-type {\n",
       "        vertical-align: middle;\n",
       "    }\n",
       "\n",
       "    .dataframe tbody tr th {\n",
       "        vertical-align: top;\n",
       "    }\n",
       "\n",
       "    .dataframe thead th {\n",
       "        text-align: right;\n",
       "    }\n",
       "</style>\n",
       "<table border=\"1\" class=\"dataframe\">\n",
       "  <thead>\n",
       "    <tr style=\"text-align: right;\">\n",
       "      <th></th>\n",
       "      <th>EmployeeID</th>\n",
       "      <th>Date</th>\n",
       "      <th>Status</th>\n",
       "      <th>Department</th>\n",
       "    </tr>\n",
       "  </thead>\n",
       "  <tbody>\n",
       "    <tr>\n",
       "      <th>0</th>\n",
       "      <td>1</td>\n",
       "      <td>2023-01-01</td>\n",
       "      <td>Present</td>\n",
       "      <td>HR</td>\n",
       "    </tr>\n",
       "    <tr>\n",
       "      <th>1</th>\n",
       "      <td>2</td>\n",
       "      <td>2023-01-02</td>\n",
       "      <td>Absent</td>\n",
       "      <td>IT</td>\n",
       "    </tr>\n",
       "    <tr>\n",
       "      <th>2</th>\n",
       "      <td>3</td>\n",
       "      <td>2023-01-03</td>\n",
       "      <td>Present</td>\n",
       "      <td>Finance</td>\n",
       "    </tr>\n",
       "    <tr>\n",
       "      <th>3</th>\n",
       "      <td>4</td>\n",
       "      <td>2023-01-04</td>\n",
       "      <td>Present</td>\n",
       "      <td>IT</td>\n",
       "    </tr>\n",
       "    <tr>\n",
       "      <th>4</th>\n",
       "      <td>5</td>\n",
       "      <td>2023-01-05</td>\n",
       "      <td>Absent</td>\n",
       "      <td>Marketing</td>\n",
       "    </tr>\n",
       "    <tr>\n",
       "      <th>5</th>\n",
       "      <td>6</td>\n",
       "      <td>2023-01-06</td>\n",
       "      <td>Present</td>\n",
       "      <td>Finance</td>\n",
       "    </tr>\n",
       "    <tr>\n",
       "      <th>6</th>\n",
       "      <td>7</td>\n",
       "      <td>2023-01-07</td>\n",
       "      <td>Absent</td>\n",
       "      <td>HR</td>\n",
       "    </tr>\n",
       "    <tr>\n",
       "      <th>7</th>\n",
       "      <td>8</td>\n",
       "      <td>2023-01-08</td>\n",
       "      <td>Present</td>\n",
       "      <td>Marketing</td>\n",
       "    </tr>\n",
       "    <tr>\n",
       "      <th>8</th>\n",
       "      <td>9</td>\n",
       "      <td>2023-01-09</td>\n",
       "      <td>Present</td>\n",
       "      <td>IT</td>\n",
       "    </tr>\n",
       "    <tr>\n",
       "      <th>9</th>\n",
       "      <td>10</td>\n",
       "      <td>2023-01-10</td>\n",
       "      <td>Absent</td>\n",
       "      <td>HR</td>\n",
       "    </tr>\n",
       "  </tbody>\n",
       "</table>\n",
       "</div>"
      ],
      "text/plain": [
       "   EmployeeID        Date   Status Department\n",
       "0           1  2023-01-01  Present         HR\n",
       "1           2  2023-01-02   Absent         IT\n",
       "2           3  2023-01-03  Present    Finance\n",
       "3           4  2023-01-04  Present         IT\n",
       "4           5  2023-01-05   Absent  Marketing\n",
       "5           6  2023-01-06  Present    Finance\n",
       "6           7  2023-01-07   Absent         HR\n",
       "7           8  2023-01-08  Present  Marketing\n",
       "8           9  2023-01-09  Present         IT\n",
       "9          10  2023-01-10   Absent         HR"
      ]
     },
     "execution_count": 188,
     "metadata": {},
     "output_type": "execute_result"
    }
   ],
   "source": [
    "import pandas as pd\n",
    "import matplotlib.pyplot as plt\n",
    "\n",
    "df = pd.read_csv('employee_attendance.csv')\n",
    "df"
   ]
  },
  {
   "cell_type": "code",
   "execution_count": 190,
   "id": "3f380fda-dd51-4494-919a-b0ccf4350df6",
   "metadata": {},
   "outputs": [
    {
     "data": {
      "text/html": [
       "<div>\n",
       "<style scoped>\n",
       "    .dataframe tbody tr th:only-of-type {\n",
       "        vertical-align: middle;\n",
       "    }\n",
       "\n",
       "    .dataframe tbody tr th {\n",
       "        vertical-align: top;\n",
       "    }\n",
       "\n",
       "    .dataframe thead th {\n",
       "        text-align: right;\n",
       "    }\n",
       "</style>\n",
       "<table border=\"1\" class=\"dataframe\">\n",
       "  <thead>\n",
       "    <tr style=\"text-align: right;\">\n",
       "      <th></th>\n",
       "      <th>EmployeeID</th>\n",
       "      <th>Date</th>\n",
       "      <th>Status</th>\n",
       "      <th>Department</th>\n",
       "    </tr>\n",
       "  </thead>\n",
       "  <tbody>\n",
       "    <tr>\n",
       "      <th>0</th>\n",
       "      <td>1</td>\n",
       "      <td>2023-01-01</td>\n",
       "      <td>Present</td>\n",
       "      <td>HR</td>\n",
       "    </tr>\n",
       "    <tr>\n",
       "      <th>1</th>\n",
       "      <td>2</td>\n",
       "      <td>2023-01-02</td>\n",
       "      <td>Absent</td>\n",
       "      <td>IT</td>\n",
       "    </tr>\n",
       "    <tr>\n",
       "      <th>2</th>\n",
       "      <td>3</td>\n",
       "      <td>2023-01-03</td>\n",
       "      <td>Present</td>\n",
       "      <td>Finance</td>\n",
       "    </tr>\n",
       "    <tr>\n",
       "      <th>3</th>\n",
       "      <td>4</td>\n",
       "      <td>2023-01-04</td>\n",
       "      <td>Present</td>\n",
       "      <td>IT</td>\n",
       "    </tr>\n",
       "    <tr>\n",
       "      <th>4</th>\n",
       "      <td>5</td>\n",
       "      <td>2023-01-05</td>\n",
       "      <td>Absent</td>\n",
       "      <td>Marketing</td>\n",
       "    </tr>\n",
       "    <tr>\n",
       "      <th>5</th>\n",
       "      <td>6</td>\n",
       "      <td>2023-01-06</td>\n",
       "      <td>Present</td>\n",
       "      <td>Finance</td>\n",
       "    </tr>\n",
       "    <tr>\n",
       "      <th>6</th>\n",
       "      <td>7</td>\n",
       "      <td>2023-01-07</td>\n",
       "      <td>Absent</td>\n",
       "      <td>HR</td>\n",
       "    </tr>\n",
       "    <tr>\n",
       "      <th>7</th>\n",
       "      <td>8</td>\n",
       "      <td>2023-01-08</td>\n",
       "      <td>Present</td>\n",
       "      <td>Marketing</td>\n",
       "    </tr>\n",
       "    <tr>\n",
       "      <th>8</th>\n",
       "      <td>9</td>\n",
       "      <td>2023-01-09</td>\n",
       "      <td>Present</td>\n",
       "      <td>IT</td>\n",
       "    </tr>\n",
       "    <tr>\n",
       "      <th>9</th>\n",
       "      <td>10</td>\n",
       "      <td>2023-01-10</td>\n",
       "      <td>Absent</td>\n",
       "      <td>HR</td>\n",
       "    </tr>\n",
       "  </tbody>\n",
       "</table>\n",
       "</div>"
      ],
      "text/plain": [
       "   EmployeeID       Date   Status Department\n",
       "0           1 2023-01-01  Present         HR\n",
       "1           2 2023-01-02   Absent         IT\n",
       "2           3 2023-01-03  Present    Finance\n",
       "3           4 2023-01-04  Present         IT\n",
       "4           5 2023-01-05   Absent  Marketing\n",
       "5           6 2023-01-06  Present    Finance\n",
       "6           7 2023-01-07   Absent         HR\n",
       "7           8 2023-01-08  Present  Marketing\n",
       "8           9 2023-01-09  Present         IT\n",
       "9          10 2023-01-10   Absent         HR"
      ]
     },
     "execution_count": 190,
     "metadata": {},
     "output_type": "execute_result"
    }
   ],
   "source": [
    "df['Date'] = pd.to_datetime(df['Date'])\n",
    "df"
   ]
  },
  {
   "cell_type": "code",
   "execution_count": 192,
   "id": "8399da11-b85a-4157-a84b-68f15adc4802",
   "metadata": {},
   "outputs": [
    {
     "data": {
      "text/html": [
       "<div>\n",
       "<style scoped>\n",
       "    .dataframe tbody tr th:only-of-type {\n",
       "        vertical-align: middle;\n",
       "    }\n",
       "\n",
       "    .dataframe tbody tr th {\n",
       "        vertical-align: top;\n",
       "    }\n",
       "\n",
       "    .dataframe thead th {\n",
       "        text-align: right;\n",
       "    }\n",
       "</style>\n",
       "<table border=\"1\" class=\"dataframe\">\n",
       "  <thead>\n",
       "    <tr style=\"text-align: right;\">\n",
       "      <th>Status</th>\n",
       "      <th>Absent</th>\n",
       "      <th>Present</th>\n",
       "    </tr>\n",
       "    <tr>\n",
       "      <th>EmployeeID</th>\n",
       "      <th></th>\n",
       "      <th></th>\n",
       "    </tr>\n",
       "  </thead>\n",
       "  <tbody>\n",
       "    <tr>\n",
       "      <th>1</th>\n",
       "      <td>0</td>\n",
       "      <td>1</td>\n",
       "    </tr>\n",
       "    <tr>\n",
       "      <th>2</th>\n",
       "      <td>1</td>\n",
       "      <td>0</td>\n",
       "    </tr>\n",
       "    <tr>\n",
       "      <th>3</th>\n",
       "      <td>0</td>\n",
       "      <td>1</td>\n",
       "    </tr>\n",
       "    <tr>\n",
       "      <th>4</th>\n",
       "      <td>0</td>\n",
       "      <td>1</td>\n",
       "    </tr>\n",
       "    <tr>\n",
       "      <th>5</th>\n",
       "      <td>1</td>\n",
       "      <td>0</td>\n",
       "    </tr>\n",
       "    <tr>\n",
       "      <th>6</th>\n",
       "      <td>0</td>\n",
       "      <td>1</td>\n",
       "    </tr>\n",
       "    <tr>\n",
       "      <th>7</th>\n",
       "      <td>1</td>\n",
       "      <td>0</td>\n",
       "    </tr>\n",
       "    <tr>\n",
       "      <th>8</th>\n",
       "      <td>0</td>\n",
       "      <td>1</td>\n",
       "    </tr>\n",
       "    <tr>\n",
       "      <th>9</th>\n",
       "      <td>0</td>\n",
       "      <td>1</td>\n",
       "    </tr>\n",
       "    <tr>\n",
       "      <th>10</th>\n",
       "      <td>1</td>\n",
       "      <td>0</td>\n",
       "    </tr>\n",
       "  </tbody>\n",
       "</table>\n",
       "</div>"
      ],
      "text/plain": [
       "Status      Absent  Present\n",
       "EmployeeID                 \n",
       "1                0        1\n",
       "2                1        0\n",
       "3                0        1\n",
       "4                0        1\n",
       "5                1        0\n",
       "6                0        1\n",
       "7                1        0\n",
       "8                0        1\n",
       "9                0        1\n",
       "10               1        0"
      ]
     },
     "execution_count": 192,
     "metadata": {},
     "output_type": "execute_result"
    }
   ],
   "source": [
    "attendance_count = df.groupby(['EmployeeID', 'Status']).size().unstack(fill_value=0)\n",
    "attendance_count"
   ]
  },
  {
   "cell_type": "code",
   "execution_count": 194,
   "id": "60bf8fdf-3233-4ac9-b2ce-4a51fda7af48",
   "metadata": {},
   "outputs": [
    {
     "data": {
      "text/plain": [
       "EmployeeID\n",
       "1     100.0\n",
       "2       0.0\n",
       "3     100.0\n",
       "4     100.0\n",
       "5       0.0\n",
       "6     100.0\n",
       "7       0.0\n",
       "8     100.0\n",
       "9     100.0\n",
       "10      0.0\n",
       "Name: AttendancePercentage, dtype: float64"
      ]
     },
     "execution_count": 194,
     "metadata": {},
     "output_type": "execute_result"
    }
   ],
   "source": [
    "attendance_count['AttendancePercentage'] = (attendance_count['Present'] / (attendance_count['Present'] + attendance_count['Absent'])) * 100\n",
    "attendance_count['AttendancePercentage']"
   ]
  },
  {
   "cell_type": "code",
   "execution_count": 196,
   "id": "a8cc4414-8727-4b0b-942c-b3dd45192775",
   "metadata": {},
   "outputs": [
    {
     "data": {
      "text/html": [
       "<div>\n",
       "<style scoped>\n",
       "    .dataframe tbody tr th:only-of-type {\n",
       "        vertical-align: middle;\n",
       "    }\n",
       "\n",
       "    .dataframe tbody tr th {\n",
       "        vertical-align: top;\n",
       "    }\n",
       "\n",
       "    .dataframe thead th {\n",
       "        text-align: right;\n",
       "    }\n",
       "</style>\n",
       "<table border=\"1\" class=\"dataframe\">\n",
       "  <thead>\n",
       "    <tr style=\"text-align: right;\">\n",
       "      <th>Status</th>\n",
       "      <th>EmployeeID</th>\n",
       "      <th>Absent</th>\n",
       "      <th>Present</th>\n",
       "      <th>AttendancePercentage</th>\n",
       "    </tr>\n",
       "  </thead>\n",
       "  <tbody>\n",
       "    <tr>\n",
       "      <th>0</th>\n",
       "      <td>1</td>\n",
       "      <td>0</td>\n",
       "      <td>1</td>\n",
       "      <td>100.0</td>\n",
       "    </tr>\n",
       "    <tr>\n",
       "      <th>1</th>\n",
       "      <td>2</td>\n",
       "      <td>1</td>\n",
       "      <td>0</td>\n",
       "      <td>0.0</td>\n",
       "    </tr>\n",
       "    <tr>\n",
       "      <th>2</th>\n",
       "      <td>3</td>\n",
       "      <td>0</td>\n",
       "      <td>1</td>\n",
       "      <td>100.0</td>\n",
       "    </tr>\n",
       "    <tr>\n",
       "      <th>3</th>\n",
       "      <td>4</td>\n",
       "      <td>0</td>\n",
       "      <td>1</td>\n",
       "      <td>100.0</td>\n",
       "    </tr>\n",
       "    <tr>\n",
       "      <th>4</th>\n",
       "      <td>5</td>\n",
       "      <td>1</td>\n",
       "      <td>0</td>\n",
       "      <td>0.0</td>\n",
       "    </tr>\n",
       "    <tr>\n",
       "      <th>5</th>\n",
       "      <td>6</td>\n",
       "      <td>0</td>\n",
       "      <td>1</td>\n",
       "      <td>100.0</td>\n",
       "    </tr>\n",
       "    <tr>\n",
       "      <th>6</th>\n",
       "      <td>7</td>\n",
       "      <td>1</td>\n",
       "      <td>0</td>\n",
       "      <td>0.0</td>\n",
       "    </tr>\n",
       "    <tr>\n",
       "      <th>7</th>\n",
       "      <td>8</td>\n",
       "      <td>0</td>\n",
       "      <td>1</td>\n",
       "      <td>100.0</td>\n",
       "    </tr>\n",
       "    <tr>\n",
       "      <th>8</th>\n",
       "      <td>9</td>\n",
       "      <td>0</td>\n",
       "      <td>1</td>\n",
       "      <td>100.0</td>\n",
       "    </tr>\n",
       "    <tr>\n",
       "      <th>9</th>\n",
       "      <td>10</td>\n",
       "      <td>1</td>\n",
       "      <td>0</td>\n",
       "      <td>0.0</td>\n",
       "    </tr>\n",
       "  </tbody>\n",
       "</table>\n",
       "</div>"
      ],
      "text/plain": [
       "Status  EmployeeID  Absent  Present  AttendancePercentage\n",
       "0                1       0        1                 100.0\n",
       "1                2       1        0                   0.0\n",
       "2                3       0        1                 100.0\n",
       "3                4       0        1                 100.0\n",
       "4                5       1        0                   0.0\n",
       "5                6       0        1                 100.0\n",
       "6                7       1        0                   0.0\n",
       "7                8       0        1                 100.0\n",
       "8                9       0        1                 100.0\n",
       "9               10       1        0                   0.0"
      ]
     },
     "execution_count": 196,
     "metadata": {},
     "output_type": "execute_result"
    }
   ],
   "source": [
    "attendance_count.reset_index(inplace=True)\n",
    "attendance_count"
   ]
  },
  {
   "cell_type": "code",
   "execution_count": 198,
   "id": "bdcc60f2-202c-493e-a713-b285cd4a5808",
   "metadata": {},
   "outputs": [
    {
     "data": {
      "text/html": [
       "<div>\n",
       "<style scoped>\n",
       "    .dataframe tbody tr th:only-of-type {\n",
       "        vertical-align: middle;\n",
       "    }\n",
       "\n",
       "    .dataframe tbody tr th {\n",
       "        vertical-align: top;\n",
       "    }\n",
       "\n",
       "    .dataframe thead th {\n",
       "        text-align: right;\n",
       "    }\n",
       "</style>\n",
       "<table border=\"1\" class=\"dataframe\">\n",
       "  <thead>\n",
       "    <tr style=\"text-align: right;\">\n",
       "      <th></th>\n",
       "      <th>EmployeeID</th>\n",
       "      <th>Date</th>\n",
       "      <th>Status</th>\n",
       "      <th>Department</th>\n",
       "      <th>AttendancePercentage</th>\n",
       "    </tr>\n",
       "  </thead>\n",
       "  <tbody>\n",
       "    <tr>\n",
       "      <th>0</th>\n",
       "      <td>1</td>\n",
       "      <td>2023-01-01</td>\n",
       "      <td>Present</td>\n",
       "      <td>HR</td>\n",
       "      <td>100.0</td>\n",
       "    </tr>\n",
       "    <tr>\n",
       "      <th>1</th>\n",
       "      <td>2</td>\n",
       "      <td>2023-01-02</td>\n",
       "      <td>Absent</td>\n",
       "      <td>IT</td>\n",
       "      <td>0.0</td>\n",
       "    </tr>\n",
       "    <tr>\n",
       "      <th>2</th>\n",
       "      <td>3</td>\n",
       "      <td>2023-01-03</td>\n",
       "      <td>Present</td>\n",
       "      <td>Finance</td>\n",
       "      <td>100.0</td>\n",
       "    </tr>\n",
       "    <tr>\n",
       "      <th>3</th>\n",
       "      <td>4</td>\n",
       "      <td>2023-01-04</td>\n",
       "      <td>Present</td>\n",
       "      <td>IT</td>\n",
       "      <td>100.0</td>\n",
       "    </tr>\n",
       "    <tr>\n",
       "      <th>4</th>\n",
       "      <td>5</td>\n",
       "      <td>2023-01-05</td>\n",
       "      <td>Absent</td>\n",
       "      <td>Marketing</td>\n",
       "      <td>0.0</td>\n",
       "    </tr>\n",
       "    <tr>\n",
       "      <th>5</th>\n",
       "      <td>6</td>\n",
       "      <td>2023-01-06</td>\n",
       "      <td>Present</td>\n",
       "      <td>Finance</td>\n",
       "      <td>100.0</td>\n",
       "    </tr>\n",
       "    <tr>\n",
       "      <th>6</th>\n",
       "      <td>7</td>\n",
       "      <td>2023-01-07</td>\n",
       "      <td>Absent</td>\n",
       "      <td>HR</td>\n",
       "      <td>0.0</td>\n",
       "    </tr>\n",
       "    <tr>\n",
       "      <th>7</th>\n",
       "      <td>8</td>\n",
       "      <td>2023-01-08</td>\n",
       "      <td>Present</td>\n",
       "      <td>Marketing</td>\n",
       "      <td>100.0</td>\n",
       "    </tr>\n",
       "    <tr>\n",
       "      <th>8</th>\n",
       "      <td>9</td>\n",
       "      <td>2023-01-09</td>\n",
       "      <td>Present</td>\n",
       "      <td>IT</td>\n",
       "      <td>100.0</td>\n",
       "    </tr>\n",
       "    <tr>\n",
       "      <th>9</th>\n",
       "      <td>10</td>\n",
       "      <td>2023-01-10</td>\n",
       "      <td>Absent</td>\n",
       "      <td>HR</td>\n",
       "      <td>0.0</td>\n",
       "    </tr>\n",
       "  </tbody>\n",
       "</table>\n",
       "</div>"
      ],
      "text/plain": [
       "   EmployeeID       Date   Status Department  AttendancePercentage\n",
       "0           1 2023-01-01  Present         HR                 100.0\n",
       "1           2 2023-01-02   Absent         IT                   0.0\n",
       "2           3 2023-01-03  Present    Finance                 100.0\n",
       "3           4 2023-01-04  Present         IT                 100.0\n",
       "4           5 2023-01-05   Absent  Marketing                   0.0\n",
       "5           6 2023-01-06  Present    Finance                 100.0\n",
       "6           7 2023-01-07   Absent         HR                   0.0\n",
       "7           8 2023-01-08  Present  Marketing                 100.0\n",
       "8           9 2023-01-09  Present         IT                 100.0\n",
       "9          10 2023-01-10   Absent         HR                   0.0"
      ]
     },
     "execution_count": 198,
     "metadata": {},
     "output_type": "execute_result"
    }
   ],
   "source": [
    "df_merged = df.merge(attendance_count[['EmployeeID', 'AttendancePercentage']], on='EmployeeID')\n",
    "df_merged"
   ]
  },
  {
   "cell_type": "code",
   "execution_count": 200,
   "id": "402aabd2-1981-4a68-81bc-94df288f0157",
   "metadata": {},
   "outputs": [
    {
     "data": {
      "text/plain": [
       "Department\n",
       "Finance      100.000000\n",
       "HR            33.333333\n",
       "IT            66.666667\n",
       "Marketing     50.000000\n",
       "Name: AttendancePercentage, dtype: float64"
      ]
     },
     "execution_count": 200,
     "metadata": {},
     "output_type": "execute_result"
    }
   ],
   "source": [
    "department_avg_attendance = df_merged.groupby('Department')['AttendancePercentage'].mean()\n",
    "department_avg_attendance"
   ]
  },
  {
   "cell_type": "code",
   "execution_count": 202,
   "id": "55505e75-cf59-42e7-972a-b69082856c5e",
   "metadata": {},
   "outputs": [
    {
     "name": "stdout",
     "output_type": "stream",
     "text": [
      "The department highest average attendance is: Finance\n"
     ]
    }
   ],
   "source": [
    "highest_avg_attendance_department = department_avg_attendance.idxmax()\n",
    "highest_avg_attendance_department\n",
    "print(f\"The department highest average attendance is: {highest_avg_attendance_department}\")"
   ]
  },
  {
   "cell_type": "code",
   "execution_count": 204,
   "id": "4585026c-4072-45ea-b1e9-5b4e0f485fa1",
   "metadata": {},
   "outputs": [
    {
     "data": {
      "text/html": [
       "<div>\n",
       "<style scoped>\n",
       "    .dataframe tbody tr th:only-of-type {\n",
       "        vertical-align: middle;\n",
       "    }\n",
       "\n",
       "    .dataframe tbody tr th {\n",
       "        vertical-align: top;\n",
       "    }\n",
       "\n",
       "    .dataframe thead th {\n",
       "        text-align: right;\n",
       "    }\n",
       "</style>\n",
       "<table border=\"1\" class=\"dataframe\">\n",
       "  <thead>\n",
       "    <tr style=\"text-align: right;\">\n",
       "      <th>Status</th>\n",
       "      <th>EmployeeID</th>\n",
       "      <th>Absent</th>\n",
       "      <th>Present</th>\n",
       "      <th>AttendancePercentage</th>\n",
       "    </tr>\n",
       "  </thead>\n",
       "  <tbody>\n",
       "    <tr>\n",
       "      <th>0</th>\n",
       "      <td>1</td>\n",
       "      <td>0</td>\n",
       "      <td>1</td>\n",
       "      <td>100.0</td>\n",
       "    </tr>\n",
       "    <tr>\n",
       "      <th>2</th>\n",
       "      <td>3</td>\n",
       "      <td>0</td>\n",
       "      <td>1</td>\n",
       "      <td>100.0</td>\n",
       "    </tr>\n",
       "    <tr>\n",
       "      <th>3</th>\n",
       "      <td>4</td>\n",
       "      <td>0</td>\n",
       "      <td>1</td>\n",
       "      <td>100.0</td>\n",
       "    </tr>\n",
       "    <tr>\n",
       "      <th>5</th>\n",
       "      <td>6</td>\n",
       "      <td>0</td>\n",
       "      <td>1</td>\n",
       "      <td>100.0</td>\n",
       "    </tr>\n",
       "    <tr>\n",
       "      <th>7</th>\n",
       "      <td>8</td>\n",
       "      <td>0</td>\n",
       "      <td>1</td>\n",
       "      <td>100.0</td>\n",
       "    </tr>\n",
       "  </tbody>\n",
       "</table>\n",
       "</div>"
      ],
      "text/plain": [
       "Status  EmployeeID  Absent  Present  AttendancePercentage\n",
       "0                1       0        1                 100.0\n",
       "2                3       0        1                 100.0\n",
       "3                4       0        1                 100.0\n",
       "5                6       0        1                 100.0\n",
       "7                8       0        1                 100.0"
      ]
     },
     "execution_count": 204,
     "metadata": {},
     "output_type": "execute_result"
    }
   ],
   "source": [
    "top_5_employees = attendance_count.sort_values(by='AttendancePercentage', ascending=False).head(5)\n",
    "top_5_employees"
   ]
  },
  {
   "cell_type": "code",
   "execution_count": 206,
   "id": "86875c03-1175-4521-a268-0b250cc881ba",
   "metadata": {},
   "outputs": [
    {
     "data": {
      "image/png": "[encoded data removed]",
      "text/plain": [
       "<Figure size 1000x600 with 1 Axes>"
      ]
     },
     "metadata": {},
     "output_type": "display_data"
    }
   ],
   "source": [
    "plt.figure(figsize=(10, 6))\n",
    "plt.bar(top_5_employees['EmployeeID'].astype(str), top_5_employees['AttendancePercentage'])\n",
    "\n",
    "plt.xlabel('Employee ID')\n",
    "plt.ylabel('Attendance Percentage')\n",
    "plt.title('Top 5 Employees Highest Attendance Percentages')\n",
    "\n",
    "plt.show()"
   ]
  },
  {
   "cell_type": "markdown",
   "id": "b69b76c0-01c3-4e48-9ffc-25e69e3ae59a",
   "metadata": {},
   "source": [
    "# Done"
   ]
  },
  {
   "cell_type": "raw",
   "id": "6e6cdd7c-2102-47f0-b589-24e9d953a750",
   "metadata": {},
   "source": [
    "Question 7: Capstone Coding Challenge (Bonus Question - Optional) (10 Marks)\n",
    "\n",
    "Data Processing and Sentiment Analysis\n",
    "Write a Python script that:\n",
    "\n",
    "Reads a text file 'reviews.txt' containing customer reviews, one review per line. (1 Mark)\n",
    "Cleans the text by removing punctuation, converting to lowercase, and tokenizing into words. (2Marks)\n",
    "Counts the frequency of positive and negative words using the provided lists positive_wordsand negative_words. (3 Marks)\n",
    "\n",
    "positive_words = ['good', 'great', 'excellent', 'amazing', 'fantastic', 'love']\n",
    "negative_words = ['bad', 'poor', 'terrible', 'awful', 'hate', 'worst']\n",
    "\n",
    "Calculates the overall sentiment score (positive count minus negative count). (2 Marks)\n",
    "Plots a pie chart showing the proportion of positive and negative words in the reviews. (2 Marks)"
   ]
  },
  {
   "cell_type": "code",
   "execution_count": 269,
   "id": "3fd264f6-7a30-47f6-943a-6cc49c9652cd",
   "metadata": {},
   "outputs": [
    {
     "data": {
      "text/plain": [
       "['good', 'great', 'excellent', 'amazing', 'fantastic', 'love']"
      ]
     },
     "execution_count": 269,
     "metadata": {},
     "output_type": "execute_result"
    }
   ],
   "source": [
    "import string\n",
    "import matplotlib.pyplot as plt\n",
    "import pandas as pd\n",
    "import numpy as np\n",
    "positive_words = ['good', 'great', 'excellent', 'amazing', 'fantastic', 'love']\n",
    "positive_words"
   ]
  },
  {
   "cell_type": "code",
   "execution_count": 276,
   "id": "692e3b32-d63d-4ff1-8586-84888ba29164",
   "metadata": {},
   "outputs": [
    {
     "data": {
      "text/plain": [
       "['bad', 'poor', 'terrible', 'awful', 'hate', 'worst']"
      ]
     },
     "execution_count": 276,
     "metadata": {},
     "output_type": "execute_result"
    }
   ],
   "source": [
    "negative_words = ['bad', 'poor', 'terrible', 'awful', 'hate', 'worst']\n",
    "negative_words"
   ]
  },
  {
   "cell_type": "code",
   "execution_count": 285,
   "id": "a8e74e7f-ed0d-4751-9a7c-dc31e847d8e6",
   "metadata": {},
   "outputs": [
    {
     "ename": "NameError",
     "evalue": "name 'read_reviews' is not defined",
     "output_type": "error",
     "traceback": [
      "\u001b[1;31m---------------------------------------------------------------------------\u001b[0m",
      "\u001b[1;31mNameError\u001b[0m                                 Traceback (most recent call last)",
      "Cell \u001b[1;32mIn[285], line 5\u001b[0m\n\u001b[0;32m      3\u001b[0m \u001b[38;5;28;01mimport\u001b[39;00m \u001b[38;5;21;01mpandas\u001b[39;00m \u001b[38;5;28;01mas\u001b[39;00m \u001b[38;5;21;01mpd\u001b[39;00m\n\u001b[0;32m      4\u001b[0m \u001b[38;5;28;01mimport\u001b[39;00m \u001b[38;5;21;01mnumpy\u001b[39;00m \u001b[38;5;28;01mas\u001b[39;00m \u001b[38;5;21;01mnp\u001b[39;00m\n\u001b[1;32m----> 5\u001b[0m review\u001b[38;5;241m=\u001b[39mread_reviews(\u001b[38;5;124m'\u001b[39m\u001b[38;5;124mreviews.txt\u001b[39m\u001b[38;5;124m'\u001b[39m)\n\u001b[0;32m      6\u001b[0m review\n",
      "\u001b[1;31mNameError\u001b[0m: name 'read_reviews' is not defined"
     ]
    }
   ],
   "source": [
    "import string\n",
    "import matplotlib.pyplot as plt\n",
    "import pandas as pd\n",
    "import numpy as np\n",
    "review=read_reviews('reviews.txt')\n",
    "review"
   ]
  },
  {
   "cell_type": "code",
   "execution_count": null,
   "id": "36aeeab8-6d80-4a09-a87d-5c14e713bbfe",
   "metadata": {},
   "outputs": [],
   "source": []
  },
  {
   "cell_type": "code",
   "execution_count": null,
   "id": "fddb6351-2c38-49a4-a262-eb062d798723",
   "metadata": {},
   "outputs": [],
   "source": []
  }
 ],
 "metadata": {
  "kernelspec": {
   "display_name": "Python 3 (ipykernel)",
   "language": "python",
   "name": "python3"
  },
  "language_info": {
   "codemirror_mode": {
    "name": "ipython",
    "version": 3
   },
   "file_extension": ".py",
   "mimetype": "text/x-python",
   "name": "python",
   "nbconvert_exporter": "python",
   "pygments_lexer": "ipython3",
   "version": "3.11.7"
  }
 },
 "nbformat": 4,
 "nbformat_minor": 5
}
